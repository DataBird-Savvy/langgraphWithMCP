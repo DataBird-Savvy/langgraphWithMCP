{
 "cells": [
  {
   "cell_type": "code",
   "execution_count": 1,
   "metadata": {},
   "outputs": [],
   "source": [
    "from typing import Annotated\n",
    "\n",
    "from typing_extensions import TypedDict\n",
    "\n",
    "from langgraph.graph import StateGraph, START,END\n",
    "from langgraph.graph.message import add_messages"
   ]
  },
  {
   "cell_type": "code",
   "execution_count": null,
   "metadata": {},
   "outputs": [],
   "source": []
  },
  {
   "cell_type": "code",
   "execution_count": 2,
   "metadata": {},
   "outputs": [],
   "source": [
    "class State(TypedDict):\n",
    "    # Messages have the type \"list\". The `add_messages` function\n",
    "    # in the annotation defines how this state key should be updated\n",
    "    # (in this case, it appends messages to the list, rather than overwriting them)\n",
    "    messages: Annotated[list, add_messages]\n",
    "\n"
   ]
  },
  {
   "cell_type": "code",
   "execution_count": 3,
   "metadata": {},
   "outputs": [],
   "source": [
    "import os\n",
    "from dotenv import load_dotenv\n",
    "from langchain.chat_models import init_chat_model"
   ]
  },
  {
   "cell_type": "code",
   "execution_count": 4,
   "metadata": {},
   "outputs": [
    {
     "data": {
      "text/plain": [
       "True"
      ]
     },
     "execution_count": 4,
     "metadata": {},
     "output_type": "execute_result"
    }
   ],
   "source": [
    "load_dotenv()"
   ]
  },
  {
   "cell_type": "code",
   "execution_count": 5,
   "metadata": {},
   "outputs": [],
   "source": [
    "from langchain_groq import ChatGroq\n",
    "\n",
    "llm = ChatGroq(\n",
    "    model=\"llama-3.1-8b-instant\",\n",
    "    temperature=0,\n",
    "    max_tokens=None,\n",
    "    timeout=None,\n",
    "    max_retries=2,\n",
    "    # other params...\n",
    ")"
   ]
  },
  {
   "cell_type": "code",
   "execution_count": 6,
   "metadata": {},
   "outputs": [],
   "source": [
    "llm=init_chat_model(\"groq:llama-3.1-8b-instant\")"
   ]
  },
  {
   "cell_type": "code",
   "execution_count": 7,
   "metadata": {},
   "outputs": [
    {
     "data": {
      "text/plain": [
       "<langgraph.graph.state.StateGraph at 0x1e99afa2a50>"
      ]
     },
     "execution_count": 7,
     "metadata": {},
     "output_type": "execute_result"
    }
   ],
   "source": [
    "def chatbot(state: State):\n",
    "    return {\"messages\": [llm.invoke(state[\"messages\"])]}\n",
    "\n",
    "\n",
    "# The first argument is the unique node name\n",
    "# The second argument is the function or object that will be called whenever\n",
    "# the node is used.\n",
    "\n",
    "graph_builder = StateGraph(State)\n",
    "graph_builder.add_node(\"chatbot\", chatbot)"
   ]
  },
  {
   "cell_type": "code",
   "execution_count": 8,
   "metadata": {},
   "outputs": [],
   "source": [
    "graph_builder.add_edge(START, \"chatbot\")\n",
    "graph_builder.add_edge(\"chatbot\",END)\n",
    "graph = graph_builder.compile()"
   ]
  },
  {
   "cell_type": "code",
   "execution_count": 9,
   "metadata": {},
   "outputs": [
    {
     "data": {
      "image/png": "[encoded data removed]",
      "text/plain": [
       "<IPython.core.display.Image object>"
      ]
     },
     "metadata": {},
     "output_type": "display_data"
    }
   ],
   "source": [
    "from IPython.display import Image, display\n",
    "\n",
    "try:\n",
    "    display(Image(graph.get_graph().draw_mermaid_png()))\n",
    "except Exception:\n",
    "    # This requires some extra dependencies and is optional\n",
    "    pass"
   ]
  },
  {
   "cell_type": "code",
   "execution_count": 10,
   "metadata": {},
   "outputs": [
    {
     "data": {
      "text/plain": [
       "{'messages': [HumanMessage(content='hi', additional_kwargs={}, response_metadata={}, id='f5f0448d-e134-49d3-aa14-d2e246a2d2b2'),\n",
       "  AIMessage(content='Hello.  How can I assist you today?', additional_kwargs={}, response_metadata={'token_usage': {'completion_tokens': 11, 'prompt_tokens': 36, 'total_tokens': 47, 'completion_time': 0.018228217, 'prompt_time': 0.001696535, 'queue_time': 0.053085675, 'total_time': 0.019924752}, 'model_name': 'llama-3.1-8b-instant', 'system_fingerprint': 'fp_510c177af0', 'finish_reason': 'stop', 'logprobs': None}, id='run--7e1268fb-9edf-47a1-b88e-9f610e573c0d-0', usage_metadata={'input_tokens': 36, 'output_tokens': 11, 'total_tokens': 47})]}"
      ]
     },
     "execution_count": 10,
     "metadata": {},
     "output_type": "execute_result"
    }
   ],
   "source": [
    "response=graph.invoke({\"messages\":\"hi\"})\n",
    "response"
   ]
  },
  {
   "cell_type": "code",
   "execution_count": 11,
   "metadata": {},
   "outputs": [
    {
     "data": {
      "text/plain": [
       "'Hello.  How can I assist you today?'"
      ]
     },
     "execution_count": 11,
     "metadata": {},
     "output_type": "execute_result"
    }
   ],
   "source": [
    "response['messages'][-1].content"
   ]
  },
  {
   "cell_type": "code",
   "execution_count": 12,
   "metadata": {},
   "outputs": [
    {
     "name": "stdout",
     "output_type": "stream",
     "text": [
      "Assistant: I'm just a language model, so I don't have emotions or feelings like humans do. However, I'm functioning properly and ready to assist you with any questions or tasks you may have. How can I help you today?\n"
     ]
    }
   ],
   "source": [
    "def stream_graph_updates(user_input: str):\n",
    "    for event in graph.stream({\"messages\": [{\"role\": \"user\", \"content\": user_input}]}):\n",
    "        for value in event.values():\n",
    "            print(\"Assistant:\", value[\"messages\"][-1].content)\n",
    "            \n",
    "stream_graph_updates(\"how are you?\")"
   ]
  },
  {
   "cell_type": "code",
   "execution_count": 13,
   "metadata": {},
   "outputs": [],
   "source": [
    "\n",
    "# while True:\n",
    "#     try:\n",
    "#         user_input = input(\"User: \")\n",
    "#         if user_input.lower() in [\"quit\", \"exit\", \"q\"]:\n",
    "#             print(\"Goodbye!\")\n",
    "#             break\n",
    "#         stream_graph_updates(user_input)\n",
    "#     except:\n",
    "#         # fallback if input() is not available\n",
    "#         user_input = \"What do you know about LangGraph?\"\n",
    "#         print(\"User: \" + user_input)\n",
    "#         stream_graph_updates(user_input)\n",
    "#         break"
   ]
  },
  {
   "cell_type": "markdown",
   "metadata": {},
   "source": [
    "# chat tool"
   ]
  },
  {
   "cell_type": "code",
   "execution_count": 14,
   "metadata": {},
   "outputs": [],
   "source": [
    "import warnings\n",
    "warnings.filterwarnings(\"ignore\", category=SyntaxWarning)\n"
   ]
  },
  {
   "cell_type": "code",
   "execution_count": null,
   "metadata": {},
   "outputs": [
    {
     "data": {
      "text/plain": [
       "{'query': \"What's a 'node' in LangGraph?\",\n",
       " 'follow_up_questions': None,\n",
       " 'answer': None,\n",
       " 'images': [],\n",
       " 'results': [{'title': 'Nodes and Edges | langchain-ai/langgraph-101 | DeepWiki',\n",
       "   'url': 'https://deepwiki.com/langchain-ai/langgraph-101/2.2-nodes-and-edges',\n",
       "   'content': 'Nodes and Edges | langchain-ai/langgraph-101 | DeepWiki Nodes and Edges Nodes and Edges What are Nodes and Edges? In LangGraph, a graph is composed of nodes connected by edges to form a directed workflow. Nodes are the workhorses of LangGraph - they are Python functions that receive the current graph state as input, perform operations, and return updates to that state. Edges define the flow of execution between nodes in a LangGraph. graph_builder.add_edge(\"retrieve_documents\", \"generate_response\") Conditional edges use a function to determine the next node based on the current state. Building a Graph with Nodes and Edges graph_builder.add_node(\"retrieve_documents\", retrieve_documents) graph_builder.add_edge(\"retrieve_documents\", \"generate_response\") When designing nodes and edges in LangGraph: Nodes and Edges What are Nodes and Edges? Building a Graph with Nodes and Edges',\n",
       "   'score': 0.8559598,\n",
       "   'raw_content': None},\n",
       "  {'title': 'What is LangGraph? - GeeksforGeeks',\n",
       "   'url': 'https://www.geeksforgeeks.org/machine-learning/what-is-langgraph/',\n",
       "   'content': 'LangGraph is a Python library that helps you build applications like chatbots or AI agents by organizing their logic step-by-step using state machine model. This step configures your Gemini API key and then we create a simple function ask_gemini that takes user input, sends it to the Gemini model and returns the AI-generated response. Creates a state structure with three fields: question, classification and response which flows through the LangGraph. import matplotlib.pyplot as plt from langgraph.graph import StateGraph\\u200bbuilder = StateGraph(GraphState)builder.add_node(\"classify\", classify)builder.add_node(\"respond\", respond)builder.set_entry_point(\"classify\")builder.add_edge(\"classify\", \"respond\")builder.set_finish_point(\"respond\")app = builder.compile()\\u200bdef visualize_workflow(builder): G = nx.DiGraph()\\u200b for node in builder.nodes: G.add_node(node) for edge in builder.edges: G.add_edge(edge[0], edge[1])\\u200b pos = nx.spring_layout(G) nx.draw(G, pos, with_labels=True, node_size=3000, node_color=\"skyblue\", font_size=12, font_weight=\"bold\", arrows=True)  plt.title(\"Langchain Workflow Visualization\") plt.show()\\u200bvisualize_workflow(builder)',\n",
       "   'score': 0.6991933,\n",
       "   'raw_content': None}],\n",
       " 'response_time': 1.04}"
      ]
     },
     "execution_count": 15,
     "metadata": {},
     "output_type": "execute_result"
    }
   ],
   "source": [
    "from langchain_tavily import TavilySearch\n",
    "\n",
    "\n",
    "tool = TavilySearch(max_results=2,api_wrapper=TavilySearchAPIWrapper(tavily_api_key=SecretStr('**********'))))\n",
    "tools = [tool]\n",
    "tool.invoke(\"What's a 'node' in LangGraph?\")"
   ]
  },
  {
   "cell_type": "code",
   "execution_count": 16,
   "metadata": {},
   "outputs": [
    {
     "data": {
      "text/plain": [
       "<langgraph.graph.state.StateGraph at 0x1e99c5e6ad0>"
      ]
     },
     "execution_count": 16,
     "metadata": {},
     "output_type": "execute_result"
    }
   ],
   "source": [
    "from typing import Annotated\n",
    "\n",
    "from typing_extensions import TypedDict\n",
    "\n",
    "from langgraph.graph import StateGraph, START, END\n",
    "from langgraph.graph.message import add_messages\n",
    "\n",
    "class State(TypedDict):\n",
    "    messages: Annotated[list, add_messages]\n",
    "\n",
    "graph_builder = StateGraph(State)\n",
    "\n",
    "# Modification: tell the LLM which tools it can call\n",
    "# highlight-next-line\n",
    "\n",
    "\n",
    "\n",
    "\n",
    "graph_builder.add_node(\"chatbot\", chatbot)"
   ]
  },
  {
   "cell_type": "code",
   "execution_count": 50,
   "metadata": {},
   "outputs": [],
   "source": [
    "def findsquare(a: int) -> int:\n",
    "    \"\"\"\n",
    "    Returns the square of a number.\n",
    "\n",
    "    Args:\n",
    "        a (int): Input number.\n",
    "\n",
    "    Returns:\n",
    "        int: The square of the input.\n",
    "    \"\"\"\n",
    "    return a**2\n"
   ]
  },
  {
   "cell_type": "code",
   "execution_count": 61,
   "metadata": {},
   "outputs": [
    {
     "data": {
      "text/plain": [
       "RunnableBinding(bound=ChatGroq(client=<groq.resources.chat.completions.Completions object at 0x000001E99B29EC10>, async_client=<groq.resources.chat.completions.AsyncCompletions object at 0x000001E99B29F610>, model_name='llama-3.1-8b-instant', model_kwargs={}, groq_api_key=SecretStr('**********')), kwargs={'tools': [{'type': 'function', 'function': {'name': 'tavily_search', 'description': 'A search engine optimized for comprehensive, accurate, and trusted results. Useful for when you need to answer questions about current events. It not only retrieves URLs and snippets, but offers advanced search depths, domain management, time range filters, and image search, this tool delivers real-time, accurate, and citation-backed results.Input should be a search query.', 'parameters': {'properties': {'query': {'description': 'Search query to look up', 'type': 'string'}, 'include_domains': {'anyOf': [{'items': {'type': 'string'}, 'type': 'array'}, {'type': 'null'}], 'default': [], 'description': 'A list of domains to restrict search results to.\\n\\n        Use this parameter when:\\n        1. The user explicitly requests information from specific websites (e.g., \"Find climate data from nasa.gov\")\\n        2. The user mentions an organization or company without specifying the domain (e.g., \"Find information about iPhones from Apple\")\\n\\n        In both cases, you should determine the appropriate domains (e.g., [\"nasa.gov\"] or [\"apple.com\"]) and set this parameter.\\n\\n        Results will ONLY come from the specified domains - no other sources will be included.\\n        Default is None (no domain restriction).\\n        '}, 'exclude_domains': {'anyOf': [{'items': {'type': 'string'}, 'type': 'array'}, {'type': 'null'}], 'default': [], 'description': 'A list of domains to exclude from search results.\\n\\n        Use this parameter when:\\n        1. The user explicitly requests to avoid certain websites (e.g., \"Find information about climate change but not from twitter.com\")\\n        2. The user mentions not wanting results from specific organizations without naming the domain (e.g., \"Find phone reviews but nothing from Apple\")\\n\\n        In both cases, you should determine the appropriate domains to exclude (e.g., [\"twitter.com\"] or [\"apple.com\"]) and set this parameter.\\n\\n        Results will filter out all content from the specified domains.\\n        Default is None (no domain exclusion).\\n        '}, 'search_depth': {'anyOf': [{'enum': ['basic', 'advanced'], 'type': 'string'}, {'type': 'null'}], 'default': 'basic', 'description': 'Controls search thoroughness and result comprehensiveness.\\n    \\n        Use \"basic\" for simple queries requiring quick, straightforward answers.\\n        \\n        Use \"advanced\" (default) for complex queries, specialized topics, \\n        rare information, or when in-depth analysis is needed.\\n        '}, 'include_images': {'anyOf': [{'type': 'boolean'}, {'type': 'null'}], 'default': False, 'description': 'Determines if the search returns relevant images along with text results.\\n   \\n        Set to True when the user explicitly requests visuals or when images would \\n        significantly enhance understanding (e.g., \"Show me what black holes look like,\" \\n        \"Find pictures of Renaissance art\").\\n        \\n        Leave as False (default) for most informational queries where text is sufficient.\\n        '}, 'time_range': {'anyOf': [{'enum': ['day', 'week', 'month', 'year'], 'type': 'string'}, {'type': 'null'}], 'default': None, 'description': 'Limits results to content published within a specific timeframe.\\n        \\n        ONLY set this when the user explicitly mentions a time period \\n        (e.g., \"latest AI news,\" \"articles from last week\").\\n        \\n        For less popular or niche topics, use broader time ranges \\n        (\"month\" or \"year\") to ensure sufficient relevant results.\\n   \\n        Options: \"day\" (24h), \"week\" (7d), \"month\" (30d), \"year\" (365d).\\n        \\n        Default is None.\\n        '}, 'topic': {'anyOf': [{'enum': ['general', 'news', 'finance'], 'type': 'string'}, {'type': 'null'}], 'default': 'general', 'description': 'Specifies search category for optimized results.\\n   \\n        Use \"general\" (default) for most queries, INCLUDING those with terms like \\n        \"latest,\" \"newest,\" or \"recent\" when referring to general information.\\n\\n        Use \"finance\" for markets, investments, economic data, or financial news.\\n\\n        Use \"news\" ONLY for politics, sports, or major current events covered by \\n        mainstream media - NOT simply because a query asks for \"new\" information.\\n        '}}, 'required': ['query'], 'type': 'object'}}}, {'type': 'function', 'function': {'name': 'findsquare', 'description': 'Returns the square of a number.', 'parameters': {'properties': {'a': {'description': 'Input number.', 'type': 'integer'}}, 'required': ['a'], 'type': 'object'}}}]}, config={}, config_factories=[])"
      ]
     },
     "execution_count": 61,
     "metadata": {},
     "output_type": "execute_result"
    }
   ],
   "source": [
    "tools=[tool,findsquare]\n",
    "llm_tools = llm.bind_tools(tools)\n",
    "llm_tools"
   ]
  },
  {
   "cell_type": "code",
   "execution_count": null,
   "metadata": {},
   "outputs": [],
   "source": []
  },
  {
   "cell_type": "markdown",
   "metadata": {},
   "source": [
    "<!-- state graph -->"
   ]
  },
  {
   "cell_type": "markdown",
   "metadata": {},
   "source": [
    "#stategraph"
   ]
  },
  {
   "cell_type": "code",
   "execution_count": 64,
   "metadata": {},
   "outputs": [],
   "source": [
    "from langgraph.graph import StateGraph, START, END\n",
    "from langgraph.graph.message import add_messages\n",
    "from langgraph.prebuilt import ToolNode, tools_condition"
   ]
  },
  {
   "cell_type": "code",
   "execution_count": 65,
   "metadata": {},
   "outputs": [
    {
     "data": {
      "text/plain": [
       "<langgraph.graph.state.StateGraph at 0x1e99d7668b0>"
      ]
     },
     "execution_count": 65,
     "metadata": {},
     "output_type": "execute_result"
    }
   ],
   "source": [
    "class State(TypedDict):\n",
    "    messages: Annotated[list, add_messages]\n",
    "    \n",
    "def tool_calling_llm(state: State):\n",
    "    return {\"messages\": [llm_tools.invoke(state[\"messages\"])]}\n",
    "\n",
    "graph_builder = StateGraph(State)\n",
    "graph_builder.add_node(\"tool_calling_llm\",tool_calling_llm)\n",
    "graph_builder.add_node(\"tools\",ToolNode(tools))\n"
   ]
  },
  {
   "cell_type": "code",
   "execution_count": 66,
   "metadata": {},
   "outputs": [],
   "source": [
    "graph_builder.add_edge(START,\"tool_calling_llm\")\n",
    "graph_builder.add_conditional_edges(\"tool_calling_llm\",tools_condition)\n",
    "graph_builder.add_edge(\"tools\",END)\n",
    "runnable_graph=graph_builder.compile()"
   ]
  },
  {
   "cell_type": "code",
   "execution_count": 67,
   "metadata": {},
   "outputs": [
    {
     "data": {
      "text/plain": [
       "{'messages': [HumanMessage(content='what is recent AI news', additional_kwargs={}, response_metadata={}, id='5a01c1fd-1366-42d7-a2f8-368f74966504'),\n",
       "  AIMessage(content='', additional_kwargs={'tool_calls': [{'id': 'sgacm6z93', 'function': {'arguments': '{\"exclude_domains\":[],\"query\":\"recent AI news\",\"search_depth\":\"advanced\",\"topic\":\"news\"}', 'name': 'tavily_search'}, 'type': 'function'}]}, response_metadata={'token_usage': {'completion_tokens': 36, 'prompt_tokens': 1240, 'total_tokens': 1276, 'completion_time': 0.069648973, 'prompt_time': 0.077387777, 'queue_time': 0.053280803, 'total_time': 0.14703675}, 'model_name': 'llama-3.1-8b-instant', 'system_fingerprint': 'fp_510c177af0', 'finish_reason': 'tool_calls', 'logprobs': None}, id='run--35ea7adc-60d4-4e3c-a74d-ae7669dcc49d-0', tool_calls=[{'name': 'tavily_search', 'args': {'exclude_domains': [], 'query': 'recent AI news', 'search_depth': 'advanced', 'topic': 'news'}, 'id': 'sgacm6z93', 'type': 'tool_call'}], usage_metadata={'input_tokens': 1240, 'output_tokens': 36, 'total_tokens': 1276}),\n",
       "  ToolMessage(content='{\"query\": \"recent AI news\", \"follow_up_questions\": null, \"answer\": null, \"images\": [], \"results\": [{\"url\": \"https://www.newsweek.com/nw-ai/ai-impact-awards-2025-science-engineering-2084754\", \"title\": \"AI Impact Awards 2025: The Changing Human Role in Science and Engineering - Newsweek\", \"score\": 0.7251239, \"published_date\": \"Wed, 25 Jun 2025 10:02:01 GMT\", \"content\": \"Newsweek _\\\\\\\\_will continue the conversation on meaningful AI innovations at our AI Impact Summit from June 23 to 25 in Sonoma, California. Click here to follow along on the live blog.\\\\\\\\__\\\\n\\\\nRequest Reprint & LicensingSubmit CorrectionView Editorial Guidelines\\\\n\\\\nSHARE:xfacebooklinkedinredditemailwhatsappCopy & Share\\\\n\\\\n✓ Link copied to clipboard!\\\\n\\\\nThe Latest in AI\\\\n----------------\\\\n\\\\nNEWSWEEK.AI\\\\n\\\\n06.09.25\\\\n\\\\n### Generative AI\\'s Mission to Explore Strange New Worlds [...] ### AI Will Connect Mercedes-Benz Places Residents to the World\\\\n\\\\nThe new Miami condo complex will have state-of-the-art technology.\\\\n\\\\nArtificial Intelligence Miami\\\\n\\\\nNEWS\\\\n\\\\n06.04.25\\\\n\\\\n### Reddit Sues AI Provider for Breach of Contract\\\\n\\\\nThe AI start up Anthropic has allegedly engaged in \\\\\"unlawful and unfair business acts.\\\\\"\\\\n\\\\nReddit AI\\\\n\\\\nTECHNOLOGY\\\\n\\\\n06.02.25\\\\n\\\\n### Could AI Save Small Businesses? Mindbody Makes a Case to Wellness Brands [...] CloudBees also recently introduced its newest tool: Unify. It centralizes control across all major CI/CD tools to unify analytics, standardize governance and secure workflows without switching costs, according to the website.\", \"raw_content\": null}, {\"url\": \"https://www.cnn.com/2025/06/23/tech/ai-impact-on-jobs-callout\", \"title\": \"Do you think AI changing or threatening to take your job? Tell us about it here - CNN\", \"score\": 0.6533265, \"published_date\": \"Mon, 23 Jun 2025 13:00:00 GMT\", \"content\": \"Anthropic CEO Dario Amodei warned last month that AI could cause as much as 20% unemployment in the next one to five years. And last week, Amazon CEO Andy Jassy told his employees that AI agents would reduce the company’s workforce in the near future. [...] Tell us about it in the form below, and please leave your contact information. No named commentary will be used without following up with you, and we can discuss providing anonymity if you’re concerned about speaking on the record about work.\\\\n\\\\n1 comment\\\\n\\\\nUp next\\\\n-------\\\\n\\\\nImage 3Amazon says it will reduce its workforce as AI replaces human employees Jun 17, 2025 2 minute read min read\\\\n\\\\nImage 4Your AI use could have a hidden environmental cost Jun 23, 2025 5 minute read min read\", \"raw_content\": null}], \"response_time\": 1.44}', name='tavily_search', id='3f3d2136-0666-4e87-acf2-00acbcd283e0', tool_call_id='sgacm6z93')]}"
      ]
     },
     "execution_count": 67,
     "metadata": {},
     "output_type": "execute_result"
    }
   ],
   "source": [
    "response=runnable_graph .invoke({\"messages\":\"what is recent AI news\"})\n",
    "response"
   ]
  },
  {
   "cell_type": "code",
   "execution_count": 68,
   "metadata": {},
   "outputs": [
    {
     "data": {
      "text/plain": [
       "'{\"query\": \"recent AI news\", \"follow_up_questions\": null, \"answer\": null, \"images\": [], \"results\": [{\"url\": \"https://www.newsweek.com/nw-ai/ai-impact-awards-2025-science-engineering-2084754\", \"title\": \"AI Impact Awards 2025: The Changing Human Role in Science and Engineering - Newsweek\", \"score\": 0.7251239, \"published_date\": \"Wed, 25 Jun 2025 10:02:01 GMT\", \"content\": \"Newsweek _\\\\\\\\_will continue the conversation on meaningful AI innovations at our AI Impact Summit from June 23 to 25 in Sonoma, California. Click here to follow along on the live blog.\\\\\\\\__\\\\n\\\\nRequest Reprint & LicensingSubmit CorrectionView Editorial Guidelines\\\\n\\\\nSHARE:xfacebooklinkedinredditemailwhatsappCopy & Share\\\\n\\\\n✓ Link copied to clipboard!\\\\n\\\\nThe Latest in AI\\\\n----------------\\\\n\\\\nNEWSWEEK.AI\\\\n\\\\n06.09.25\\\\n\\\\n### Generative AI\\'s Mission to Explore Strange New Worlds [...] ### AI Will Connect Mercedes-Benz Places Residents to the World\\\\n\\\\nThe new Miami condo complex will have state-of-the-art technology.\\\\n\\\\nArtificial Intelligence Miami\\\\n\\\\nNEWS\\\\n\\\\n06.04.25\\\\n\\\\n### Reddit Sues AI Provider for Breach of Contract\\\\n\\\\nThe AI start up Anthropic has allegedly engaged in \\\\\"unlawful and unfair business acts.\\\\\"\\\\n\\\\nReddit AI\\\\n\\\\nTECHNOLOGY\\\\n\\\\n06.02.25\\\\n\\\\n### Could AI Save Small Businesses? Mindbody Makes a Case to Wellness Brands [...] CloudBees also recently introduced its newest tool: Unify. It centralizes control across all major CI/CD tools to unify analytics, standardize governance and secure workflows without switching costs, according to the website.\", \"raw_content\": null}, {\"url\": \"https://www.cnn.com/2025/06/23/tech/ai-impact-on-jobs-callout\", \"title\": \"Do you think AI changing or threatening to take your job? Tell us about it here - CNN\", \"score\": 0.6533265, \"published_date\": \"Mon, 23 Jun 2025 13:00:00 GMT\", \"content\": \"Anthropic CEO Dario Amodei warned last month that AI could cause as much as 20% unemployment in the next one to five years. And last week, Amazon CEO Andy Jassy told his employees that AI agents would reduce the company’s workforce in the near future. [...] Tell us about it in the form below, and please leave your contact information. No named commentary will be used without following up with you, and we can discuss providing anonymity if you’re concerned about speaking on the record about work.\\\\n\\\\n1 comment\\\\n\\\\nUp next\\\\n-------\\\\n\\\\nImage 3Amazon says it will reduce its workforce as AI replaces human employees Jun 17, 2025 2 minute read min read\\\\n\\\\nImage 4Your AI use could have a hidden environmental cost Jun 23, 2025 5 minute read min read\", \"raw_content\": null}], \"response_time\": 1.44}'"
      ]
     },
     "execution_count": 68,
     "metadata": {},
     "output_type": "execute_result"
    }
   ],
   "source": [
    "response['messages'][-1].content"
   ]
  },
  {
   "cell_type": "code",
   "execution_count": 72,
   "metadata": {},
   "outputs": [
    {
     "name": "stdout",
     "output_type": "stream",
     "text": [
      "================================\u001b[1m Human Message \u001b[0m=================================\n",
      "\n",
      "what is the square of 7\n",
      "==================================\u001b[1m Ai Message \u001b[0m==================================\n",
      "Tool Calls:\n",
      "  findsquare (vxaqrf4da)\n",
      " Call ID: vxaqrf4da\n",
      "  Args:\n",
      "    a: 7\n",
      "=================================\u001b[1m Tool Message \u001b[0m=================================\n",
      "Name: findsquare\n",
      "\n",
      "49\n"
     ]
    }
   ],
   "source": [
    "for m in response['messages']:\n",
    "    m.pretty_print()"
   ]
  },
  {
   "cell_type": "code",
   "execution_count": 71,
   "metadata": {},
   "outputs": [],
   "source": [
    "response=runnable_graph .invoke({\"messages\":\"what is the square of 7\"})"
   ]
  },
  {
   "cell_type": "markdown",
   "metadata": {},
   "source": [
    "# react agent works:\n",
    "1.act\n",
    "2.observe\n",
    "3.reasoning"
   ]
  },
  {
   "cell_type": "code",
   "execution_count": 73,
   "metadata": {},
   "outputs": [
    {
     "data": {
      "image/png": "[encoded data removed]",
      "text/plain": [
       "<langgraph.graph.state.CompiledStateGraph object at 0x000001E99D9DFBD0>"
      ]
     },
     "execution_count": 73,
     "metadata": {},
     "output_type": "execute_result"
    }
   ],
   "source": [
    "class State(TypedDict):\n",
    "    messages: Annotated[list, add_messages]\n",
    "    \n",
    "def tool_calling_llm(state: State):\n",
    "    return {\"messages\": [llm_tools.invoke(state[\"messages\"])]}\n",
    "\n",
    "graph_builder = StateGraph(State)\n",
    "graph_builder.add_node(\"tool_calling_llm\",tool_calling_llm)\n",
    "graph_builder.add_node(\"tools\",ToolNode(tools))\n",
    "graph_builder.add_edge(START,\"tool_calling_llm\")\n",
    "graph_builder.add_conditional_edges(\"tool_calling_llm\",tools_condition)\n",
    "graph_builder.add_edge(\"tools\",\"tool_calling_llm\")\n",
    "runnable_graph=graph_builder.compile()\n",
    "runnable_graph"
   ]
  },
  {
   "cell_type": "code",
   "execution_count": 74,
   "metadata": {},
   "outputs": [
    {
     "name": "stdout",
     "output_type": "stream",
     "text": [
      "================================\u001b[1m Human Message \u001b[0m=================================\n",
      "\n",
      "what is the square of 7 and recent news realated ai\n",
      "==================================\u001b[1m Ai Message \u001b[0m==================================\n",
      "Tool Calls:\n",
      "  findsquare (a1kvkxj21)\n",
      " Call ID: a1kvkxj21\n",
      "  Args:\n",
      "    a: 7\n",
      "  tavily_search (29wr201ms)\n",
      " Call ID: 29wr201ms\n",
      "  Args:\n",
      "    query: recent AI news\n",
      "    search_depth: advanced\n",
      "    time_range: day\n",
      "    topic: news\n",
      "=================================\u001b[1m Tool Message \u001b[0m=================================\n",
      "Name: findsquare\n",
      "\n",
      "49\n",
      "=================================\u001b[1m Tool Message \u001b[0m=================================\n",
      "Name: tavily_search\n",
      "\n",
      "{\"query\": \"recent AI news\", \"follow_up_questions\": null, \"answer\": null, \"images\": [], \"results\": [{\"url\": \"https://www.businessinsider.com/cargurus-working-group-employees-ai-experimentation-2025-6\", \"title\": \"CarGurus created a working group for AI experimentation. Employees are buying in. - Business Insider\", \"score\": 0.6557114, \"published_date\": \"Wed, 25 Jun 2025 18:23:00 GMT\", \"content\": \"# CarGurus created a working group for AI experimentation. Employees are buying in.\\n\\nSarah Rich is photographed against a blue background and wears a black collared shirt.\\n\\nThere's no shortage of hype around the potential for AI to transform the workplace. A recent McKinsey report compared the tech to the birth of the internet and the arrival of the steam engine.\", \"raw_content\": null}, {\"url\": \"https://www.businessinsider.com/ai-stocks-nasdaq-100-ndx-tech-trade-nvda-avgo-amd-2025-6\", \"title\": \"Why the tech trade has more room to run even as the Nasdaq 100 hovers at all-time highs - Business Insider\", \"score\": 0.6399392, \"published_date\": \"Wed, 25 Jun 2025 19:50:00 GMT\", \"content\": \"The Nasdaq's recent gains have been propelled by rallies in top chip makers like Advanced Micro Devices, Broadcom, and Nvidia, three artificial intelligence leaders that have spent the last month moving steadily higher.\\n\\nThese companies' ability to withstand volatile market conditions and continue making progress has caught the attention of top commentators. Investor and former Pimco exec Bill Gross recently predicted a \\\"little bull market\\\" for stocks, citing the dominance of the AI market. [...] Now, UBS says investors should stick with the tech trade, as the AI party is still just kicking off and AI adoption is accelerating.\\n\\nCiting data from a recent Census Bureau survey on the use of AI in the workplace, UBS said use of the technology is rising steadily. [...] \\\"AI adoption rates rose to 9.2% in the second quarter of this year, from 7.4% in the previous three-month period and 5.7% in the December 2024 quarter,\\\" states the report. \\\"This means AI adoption is likely to soon cross the 10% threshold that took US e-commerce 24 years to reach.\\\"\", \"raw_content\": null}], \"response_time\": 1.18}\n",
      "==================================\u001b[1m Ai Message \u001b[0m==================================\n",
      "\n",
      "The square of 7 is 49. Recent news related to AI includes CarGurus creating a working group for AI experimentation and employees buying in, as well as the tech trade having more room to run even as the Nasdaq 100 hovers at all-time highs.\n"
     ]
    }
   ],
   "source": [
    "response=runnable_graph .invoke({\"messages\":\"what is the square of 7 and recent news realated ai\"})\n",
    "for m in response['messages']:\n",
    "    m.pretty_print()"
   ]
  },
  {
   "cell_type": "markdown",
   "metadata": {},
   "source": [
    "# adding memory in agent"
   ]
  },
  {
   "cell_type": "code",
   "execution_count": 89,
   "metadata": {},
   "outputs": [
    {
     "data": {
      "image/png": "[encoded data removed]",
      "text/plain": [
       "<langgraph.graph.state.CompiledStateGraph object at 0x000001E99D9DECF0>"
      ]
     },
     "execution_count": 89,
     "metadata": {},
     "output_type": "execute_result"
    }
   ],
   "source": [
    "from langgraph.graph import StateGraph, START, END\n",
    "from langgraph.graph.message import add_messages\n",
    "from langgraph.prebuilt import ToolNode, tools_condition\n",
    "from langgraph.checkpoint.memory import MemorySaver\n",
    "class State(TypedDict):\n",
    "    messages: Annotated[list, add_messages]\n",
    "memory=MemorySaver()\n",
    "    \n",
    "def tool_calling_llm(state: State):\n",
    "    return {\"messages\": [llm_tools.invoke(state[\"messages\"])]}\n",
    "\n",
    "graph_builder = StateGraph(State)\n",
    "graph_builder.add_node(\"tool_calling_llm\",tool_calling_llm)\n",
    "graph_builder.add_node(\"tools\",ToolNode(tools))\n",
    "graph_builder.add_edge(START,\"tool_calling_llm\")\n",
    "graph_builder.add_conditional_edges(\"tool_calling_llm\",tools_condition)\n",
    "graph_builder.add_edge(\"tools\",\"tool_calling_llm\")\n",
    "runnable_graph=graph_builder.compile(checkpointer=memory)\n",
    "runnable_graph"
   ]
  },
  {
   "cell_type": "code",
   "execution_count": 90,
   "metadata": {},
   "outputs": [],
   "source": [
    "config={\"configurable\":{\"thread_id\":1}}"
   ]
  },
  {
   "cell_type": "code",
   "execution_count": 91,
   "metadata": {},
   "outputs": [
    {
     "name": "stdout",
     "output_type": "stream",
     "text": [
      "================================\u001b[1m Human Message \u001b[0m=================================\n",
      "\n",
      "my name is jiya.please remember it\n",
      "==================================\u001b[1m Ai Message \u001b[0m==================================\n",
      "\n",
      "I'll remember your name is Jiya.\n"
     ]
    }
   ],
   "source": [
    "response=runnable_graph .invoke({\"messages\":\"my name is jiya.please remember it\"},config=config)\n",
    "for m in response['messages']:\n",
    "    m.pretty_print()"
   ]
  },
  {
   "cell_type": "code",
   "execution_count": 92,
   "metadata": {},
   "outputs": [
    {
     "name": "stdout",
     "output_type": "stream",
     "text": [
      "================================\u001b[1m Human Message \u001b[0m=================================\n",
      "\n",
      "my name is jiya.please remember it\n",
      "==================================\u001b[1m Ai Message \u001b[0m==================================\n",
      "\n",
      "I'll remember your name is Jiya.\n",
      "================================\u001b[1m Human Message \u001b[0m=================================\n",
      "\n",
      "what is my name\n",
      "==================================\u001b[1m Ai Message \u001b[0m==================================\n",
      "\n",
      "Jiya\n"
     ]
    }
   ],
   "source": [
    "response=runnable_graph .invoke({\"messages\":\"what is my name\"},config=config)\n",
    "for m in response['messages']:\n",
    "    m.pretty_print()"
   ]
  },
  {
   "cell_type": "markdown",
   "metadata": {},
   "source": [
    "# stream"
   ]
  },
  {
   "cell_type": "code",
   "execution_count": 103,
   "metadata": {},
   "outputs": [],
   "source": [
    "from langgraph.checkpoint.memory import MemorySaver\n",
    "memory=MemorySaver()"
   ]
  },
  {
   "cell_type": "code",
   "execution_count": 104,
   "metadata": {},
   "outputs": [],
   "source": [
    "def superbot(state: State):\n",
    "    return {\"messages\": [llm.invoke(state[\"messages\"])]}"
   ]
  },
  {
   "cell_type": "code",
   "execution_count": 105,
   "metadata": {},
   "outputs": [
    {
     "data": {
      "image/png": "[encoded data removed]",
      "text/plain": [
       "<langgraph.graph.state.CompiledStateGraph object at 0x000001E99D9DF570>"
      ]
     },
     "execution_count": 105,
     "metadata": {},
     "output_type": "execute_result"
    }
   ],
   "source": [
    "\n",
    "graph_super = StateGraph(State)\n",
    "graph_super.add_node(\"superbot\",superbot)\n",
    "\n",
    "graph_super.add_edge(START,\"superbot\")\n",
    "\n",
    "graph_super.add_edge(\"superbot\",END)\n",
    "runnable_graph=graph_super.compile(checkpointer=memory)\n",
    "runnable_graph"
   ]
  },
  {
   "cell_type": "code",
   "execution_count": 106,
   "metadata": {},
   "outputs": [
    {
     "name": "stdout",
     "output_type": "stream",
     "text": [
      "================================\u001b[1m Human Message \u001b[0m=================================\n",
      "\n",
      "MY NAME IS JIYA.I LIKE READING\n",
      "==================================\u001b[1m Ai Message \u001b[0m==================================\n",
      "\n",
      "Nice to meet you, Jiya.  I'm glad to hear that you like reading. Reading is an amazing hobby that can transport you to different worlds, introduce you to new ideas, and even broaden your perspectives. What kind of books do you enjoy reading? Are you into fiction, non-fiction, mystery, sci-fi, romance, or something else?\n"
     ]
    }
   ],
   "source": [
    "config={\"configurable\":{\"thread_id\":2}}\n",
    "response=runnable_graph .invoke({\"messages\":\"MY NAME IS JIYA.I LIKE READING\"},config=config)\n",
    "for m in response['messages']:\n",
    "    m.pretty_print()"
   ]
  },
  {
   "cell_type": "code",
   "execution_count": 111,
   "metadata": {},
   "outputs": [
    {
     "name": "stdout",
     "output_type": "stream",
     "text": [
      "{'superbot': {'messages': [AIMessage(content=\"It seems like you're repeating yourself, Jiya. I'd love to have a more in-depth conversation about your reading habits. Can you please tell me what you'd like to talk about? Do you want to discuss your favorite books, genres, authors, or something else related to reading?\", additional_kwargs={}, response_metadata={'token_usage': {'completion_tokens': 60, 'prompt_tokens': 163, 'total_tokens': 223, 'completion_time': 0.119197556, 'prompt_time': 0.00976272, 'queue_time': 0.05227636, 'total_time': 0.128960276}, 'model_name': 'llama-3.1-8b-instant', 'system_fingerprint': 'fp_510c177af0', 'finish_reason': 'stop', 'logprobs': None}, id='run--65e6881a-007e-4bbc-95c3-cbf614b164cf-0', usage_metadata={'input_tokens': 163, 'output_tokens': 60, 'total_tokens': 223})]}}\n"
     ]
    }
   ],
   "source": [
    "config={\"configurable\":{\"thread_id\":3}}\n",
    "response=runnable_graph .stream({\"messages\":\"MY NAME IS JIYA.I LIKE READING\"},config,stream_mode=\"updates\")\n",
    "for m in response:\n",
    "    print(m)"
   ]
  },
  {
   "cell_type": "code",
   "execution_count": 112,
   "metadata": {},
   "outputs": [
    {
     "name": "stdout",
     "output_type": "stream",
     "text": [
      "{'messages': [HumanMessage(content='MY NAME IS JIYA.I LIKE READING', additional_kwargs={}, response_metadata={}, id='8867df5d-7335-43a5-82bc-f71cedcf4811')]}\n",
      "{'messages': [HumanMessage(content='MY NAME IS JIYA.I LIKE READING', additional_kwargs={}, response_metadata={}, id='8867df5d-7335-43a5-82bc-f71cedcf4811'), AIMessage(content=\"Nice to meet you, Jiya. It's great to hear that you like reading! Reading can be such a wonderful hobby, expanding your knowledge, imagination, and perspective on the world. \\n\\nWhat kind of books do you enjoy reading? Are you into fiction, non-fiction, mystery, sci-fi, fantasy, or something else? I'd love to chat with you about your reading preferences.\", additional_kwargs={}, response_metadata={'token_usage': {'completion_tokens': 80, 'prompt_tokens': 45, 'total_tokens': 125, 'completion_time': 0.137673139, 'prompt_time': 0.002273424, 'queue_time': 0.053258276, 'total_time': 0.139946563}, 'model_name': 'llama-3.1-8b-instant', 'system_fingerprint': 'fp_510c177af0', 'finish_reason': 'stop', 'logprobs': None}, id='run--b70cbe27-4a1e-475f-86b7-086c75bf4084-0', usage_metadata={'input_tokens': 45, 'output_tokens': 80, 'total_tokens': 125})]}\n"
     ]
    }
   ],
   "source": [
    "config={\"configurable\":{\"thread_id\":4}}\n",
    "response=runnable_graph .stream({\"messages\":\"MY NAME IS JIYA.I LIKE READING\"},config,stream_mode=\"values\")\n",
    "for m in response:\n",
    "    print(m)"
   ]
  },
  {
   "cell_type": "code",
   "execution_count": 118,
   "metadata": {},
   "outputs": [
    {
     "name": "stdout",
     "output_type": "stream",
     "text": [
      "{'event': 'on_chain_start', 'data': {'input': {'messages': 'MY NAME IS JIYA.I LIKE READING'}}, 'name': 'LangGraph', 'tags': [], 'run_id': 'd7aee90a-32b2-4ef4-a5c0-09d4e662faf3', 'metadata': {'thread_id': '5'}, 'parent_ids': []}\n",
      "{'event': 'on_chain_start', 'data': {'input': {'messages': [HumanMessage(content='MY NAME IS JIYA.I LIKE READING', additional_kwargs={}, response_metadata={}, id='273e1a36-42f3-4088-b3e2-f175cfaeb9a8')]}}, 'name': 'superbot', 'tags': ['graph:step:1'], 'run_id': 'd23ca73b-48b0-4c4e-8339-51cbda81d3fc', 'metadata': {'thread_id': '5', 'langgraph_step': 1, 'langgraph_node': 'superbot', 'langgraph_triggers': ('branch:to:superbot',), 'langgraph_path': ('__pregel_pull', 'superbot'), 'langgraph_checkpoint_ns': 'superbot:efce3668-e618-0078-9f80-fc5ef412157d'}, 'parent_ids': ['d7aee90a-32b2-4ef4-a5c0-09d4e662faf3']}\n",
      "{'event': 'on_chat_model_start', 'data': {'input': {'messages': [[HumanMessage(content='MY NAME IS JIYA.I LIKE READING', additional_kwargs={}, response_metadata={}, id='273e1a36-42f3-4088-b3e2-f175cfaeb9a8')]]}}, 'name': 'ChatGroq', 'tags': ['seq:step:1'], 'run_id': '653f93d8-1ec0-48bb-9218-473b9670d609', 'metadata': {'thread_id': '5', 'langgraph_step': 1, 'langgraph_node': 'superbot', 'langgraph_triggers': ('branch:to:superbot',), 'langgraph_path': ('__pregel_pull', 'superbot'), 'langgraph_checkpoint_ns': 'superbot:efce3668-e618-0078-9f80-fc5ef412157d', 'checkpoint_ns': 'superbot:efce3668-e618-0078-9f80-fc5ef412157d', 'ls_provider': 'groq', 'ls_model_name': 'llama-3.1-8b-instant', 'ls_model_type': 'chat', 'ls_temperature': 0.7}, 'parent_ids': ['d7aee90a-32b2-4ef4-a5c0-09d4e662faf3', 'd23ca73b-48b0-4c4e-8339-51cbda81d3fc']}\n",
      "{'event': 'on_chat_model_stream', 'data': {'chunk': AIMessageChunk(content='', additional_kwargs={}, response_metadata={}, id='run--653f93d8-1ec0-48bb-9218-473b9670d609')}, 'run_id': '653f93d8-1ec0-48bb-9218-473b9670d609', 'name': 'ChatGroq', 'tags': ['seq:step:1'], 'metadata': {'thread_id': '5', 'langgraph_step': 1, 'langgraph_node': 'superbot', 'langgraph_triggers': ('branch:to:superbot',), 'langgraph_path': ('__pregel_pull', 'superbot'), 'langgraph_checkpoint_ns': 'superbot:efce3668-e618-0078-9f80-fc5ef412157d', 'checkpoint_ns': 'superbot:efce3668-e618-0078-9f80-fc5ef412157d', 'ls_provider': 'groq', 'ls_model_name': 'llama-3.1-8b-instant', 'ls_model_type': 'chat', 'ls_temperature': 0.7}, 'parent_ids': ['d7aee90a-32b2-4ef4-a5c0-09d4e662faf3', 'd23ca73b-48b0-4c4e-8339-51cbda81d3fc']}\n",
      "{'event': 'on_chat_model_stream', 'data': {'chunk': AIMessageChunk(content='Nice', additional_kwargs={}, response_metadata={}, id='run--653f93d8-1ec0-48bb-9218-473b9670d609')}, 'run_id': '653f93d8-1ec0-48bb-9218-473b9670d609', 'name': 'ChatGroq', 'tags': ['seq:step:1'], 'metadata': {'thread_id': '5', 'langgraph_step': 1, 'langgraph_node': 'superbot', 'langgraph_triggers': ('branch:to:superbot',), 'langgraph_path': ('__pregel_pull', 'superbot'), 'langgraph_checkpoint_ns': 'superbot:efce3668-e618-0078-9f80-fc5ef412157d', 'checkpoint_ns': 'superbot:efce3668-e618-0078-9f80-fc5ef412157d', 'ls_provider': 'groq', 'ls_model_name': 'llama-3.1-8b-instant', 'ls_model_type': 'chat', 'ls_temperature': 0.7}, 'parent_ids': ['d7aee90a-32b2-4ef4-a5c0-09d4e662faf3', 'd23ca73b-48b0-4c4e-8339-51cbda81d3fc']}\n",
      "{'event': 'on_chat_model_stream', 'data': {'chunk': AIMessageChunk(content=' to', additional_kwargs={}, response_metadata={}, id='run--653f93d8-1ec0-48bb-9218-473b9670d609')}, 'run_id': '653f93d8-1ec0-48bb-9218-473b9670d609', 'name': 'ChatGroq', 'tags': ['seq:step:1'], 'metadata': {'thread_id': '5', 'langgraph_step': 1, 'langgraph_node': 'superbot', 'langgraph_triggers': ('branch:to:superbot',), 'langgraph_path': ('__pregel_pull', 'superbot'), 'langgraph_checkpoint_ns': 'superbot:efce3668-e618-0078-9f80-fc5ef412157d', 'checkpoint_ns': 'superbot:efce3668-e618-0078-9f80-fc5ef412157d', 'ls_provider': 'groq', 'ls_model_name': 'llama-3.1-8b-instant', 'ls_model_type': 'chat', 'ls_temperature': 0.7}, 'parent_ids': ['d7aee90a-32b2-4ef4-a5c0-09d4e662faf3', 'd23ca73b-48b0-4c4e-8339-51cbda81d3fc']}\n",
      "{'event': 'on_chat_model_stream', 'data': {'chunk': AIMessageChunk(content=' meet', additional_kwargs={}, response_metadata={}, id='run--653f93d8-1ec0-48bb-9218-473b9670d609')}, 'run_id': '653f93d8-1ec0-48bb-9218-473b9670d609', 'name': 'ChatGroq', 'tags': ['seq:step:1'], 'metadata': {'thread_id': '5', 'langgraph_step': 1, 'langgraph_node': 'superbot', 'langgraph_triggers': ('branch:to:superbot',), 'langgraph_path': ('__pregel_pull', 'superbot'), 'langgraph_checkpoint_ns': 'superbot:efce3668-e618-0078-9f80-fc5ef412157d', 'checkpoint_ns': 'superbot:efce3668-e618-0078-9f80-fc5ef412157d', 'ls_provider': 'groq', 'ls_model_name': 'llama-3.1-8b-instant', 'ls_model_type': 'chat', 'ls_temperature': 0.7}, 'parent_ids': ['d7aee90a-32b2-4ef4-a5c0-09d4e662faf3', 'd23ca73b-48b0-4c4e-8339-51cbda81d3fc']}\n",
      "{'event': 'on_chat_model_stream', 'data': {'chunk': AIMessageChunk(content=' you', additional_kwargs={}, response_metadata={}, id='run--653f93d8-1ec0-48bb-9218-473b9670d609')}, 'run_id': '653f93d8-1ec0-48bb-9218-473b9670d609', 'name': 'ChatGroq', 'tags': ['seq:step:1'], 'metadata': {'thread_id': '5', 'langgraph_step': 1, 'langgraph_node': 'superbot', 'langgraph_triggers': ('branch:to:superbot',), 'langgraph_path': ('__pregel_pull', 'superbot'), 'langgraph_checkpoint_ns': 'superbot:efce3668-e618-0078-9f80-fc5ef412157d', 'checkpoint_ns': 'superbot:efce3668-e618-0078-9f80-fc5ef412157d', 'ls_provider': 'groq', 'ls_model_name': 'llama-3.1-8b-instant', 'ls_model_type': 'chat', 'ls_temperature': 0.7}, 'parent_ids': ['d7aee90a-32b2-4ef4-a5c0-09d4e662faf3', 'd23ca73b-48b0-4c4e-8339-51cbda81d3fc']}\n",
      "{'event': 'on_chat_model_stream', 'data': {'chunk': AIMessageChunk(content=',', additional_kwargs={}, response_metadata={}, id='run--653f93d8-1ec0-48bb-9218-473b9670d609')}, 'run_id': '653f93d8-1ec0-48bb-9218-473b9670d609', 'name': 'ChatGroq', 'tags': ['seq:step:1'], 'metadata': {'thread_id': '5', 'langgraph_step': 1, 'langgraph_node': 'superbot', 'langgraph_triggers': ('branch:to:superbot',), 'langgraph_path': ('__pregel_pull', 'superbot'), 'langgraph_checkpoint_ns': 'superbot:efce3668-e618-0078-9f80-fc5ef412157d', 'checkpoint_ns': 'superbot:efce3668-e618-0078-9f80-fc5ef412157d', 'ls_provider': 'groq', 'ls_model_name': 'llama-3.1-8b-instant', 'ls_model_type': 'chat', 'ls_temperature': 0.7}, 'parent_ids': ['d7aee90a-32b2-4ef4-a5c0-09d4e662faf3', 'd23ca73b-48b0-4c4e-8339-51cbda81d3fc']}\n",
      "{'event': 'on_chat_model_stream', 'data': {'chunk': AIMessageChunk(content=' Ji', additional_kwargs={}, response_metadata={}, id='run--653f93d8-1ec0-48bb-9218-473b9670d609')}, 'run_id': '653f93d8-1ec0-48bb-9218-473b9670d609', 'name': 'ChatGroq', 'tags': ['seq:step:1'], 'metadata': {'thread_id': '5', 'langgraph_step': 1, 'langgraph_node': 'superbot', 'langgraph_triggers': ('branch:to:superbot',), 'langgraph_path': ('__pregel_pull', 'superbot'), 'langgraph_checkpoint_ns': 'superbot:efce3668-e618-0078-9f80-fc5ef412157d', 'checkpoint_ns': 'superbot:efce3668-e618-0078-9f80-fc5ef412157d', 'ls_provider': 'groq', 'ls_model_name': 'llama-3.1-8b-instant', 'ls_model_type': 'chat', 'ls_temperature': 0.7}, 'parent_ids': ['d7aee90a-32b2-4ef4-a5c0-09d4e662faf3', 'd23ca73b-48b0-4c4e-8339-51cbda81d3fc']}\n",
      "{'event': 'on_chat_model_stream', 'data': {'chunk': AIMessageChunk(content='ya', additional_kwargs={}, response_metadata={}, id='run--653f93d8-1ec0-48bb-9218-473b9670d609')}, 'run_id': '653f93d8-1ec0-48bb-9218-473b9670d609', 'name': 'ChatGroq', 'tags': ['seq:step:1'], 'metadata': {'thread_id': '5', 'langgraph_step': 1, 'langgraph_node': 'superbot', 'langgraph_triggers': ('branch:to:superbot',), 'langgraph_path': ('__pregel_pull', 'superbot'), 'langgraph_checkpoint_ns': 'superbot:efce3668-e618-0078-9f80-fc5ef412157d', 'checkpoint_ns': 'superbot:efce3668-e618-0078-9f80-fc5ef412157d', 'ls_provider': 'groq', 'ls_model_name': 'llama-3.1-8b-instant', 'ls_model_type': 'chat', 'ls_temperature': 0.7}, 'parent_ids': ['d7aee90a-32b2-4ef4-a5c0-09d4e662faf3', 'd23ca73b-48b0-4c4e-8339-51cbda81d3fc']}\n",
      "{'event': 'on_chat_model_stream', 'data': {'chunk': AIMessageChunk(content='.', additional_kwargs={}, response_metadata={}, id='run--653f93d8-1ec0-48bb-9218-473b9670d609')}, 'run_id': '653f93d8-1ec0-48bb-9218-473b9670d609', 'name': 'ChatGroq', 'tags': ['seq:step:1'], 'metadata': {'thread_id': '5', 'langgraph_step': 1, 'langgraph_node': 'superbot', 'langgraph_triggers': ('branch:to:superbot',), 'langgraph_path': ('__pregel_pull', 'superbot'), 'langgraph_checkpoint_ns': 'superbot:efce3668-e618-0078-9f80-fc5ef412157d', 'checkpoint_ns': 'superbot:efce3668-e618-0078-9f80-fc5ef412157d', 'ls_provider': 'groq', 'ls_model_name': 'llama-3.1-8b-instant', 'ls_model_type': 'chat', 'ls_temperature': 0.7}, 'parent_ids': ['d7aee90a-32b2-4ef4-a5c0-09d4e662faf3', 'd23ca73b-48b0-4c4e-8339-51cbda81d3fc']}\n",
      "{'event': 'on_chat_model_stream', 'data': {'chunk': AIMessageChunk(content=' ', additional_kwargs={}, response_metadata={}, id='run--653f93d8-1ec0-48bb-9218-473b9670d609')}, 'run_id': '653f93d8-1ec0-48bb-9218-473b9670d609', 'name': 'ChatGroq', 'tags': ['seq:step:1'], 'metadata': {'thread_id': '5', 'langgraph_step': 1, 'langgraph_node': 'superbot', 'langgraph_triggers': ('branch:to:superbot',), 'langgraph_path': ('__pregel_pull', 'superbot'), 'langgraph_checkpoint_ns': 'superbot:efce3668-e618-0078-9f80-fc5ef412157d', 'checkpoint_ns': 'superbot:efce3668-e618-0078-9f80-fc5ef412157d', 'ls_provider': 'groq', 'ls_model_name': 'llama-3.1-8b-instant', 'ls_model_type': 'chat', 'ls_temperature': 0.7}, 'parent_ids': ['d7aee90a-32b2-4ef4-a5c0-09d4e662faf3', 'd23ca73b-48b0-4c4e-8339-51cbda81d3fc']}\n",
      "{'event': 'on_chat_model_stream', 'data': {'chunk': AIMessageChunk(content=' It', additional_kwargs={}, response_metadata={}, id='run--653f93d8-1ec0-48bb-9218-473b9670d609')}, 'run_id': '653f93d8-1ec0-48bb-9218-473b9670d609', 'name': 'ChatGroq', 'tags': ['seq:step:1'], 'metadata': {'thread_id': '5', 'langgraph_step': 1, 'langgraph_node': 'superbot', 'langgraph_triggers': ('branch:to:superbot',), 'langgraph_path': ('__pregel_pull', 'superbot'), 'langgraph_checkpoint_ns': 'superbot:efce3668-e618-0078-9f80-fc5ef412157d', 'checkpoint_ns': 'superbot:efce3668-e618-0078-9f80-fc5ef412157d', 'ls_provider': 'groq', 'ls_model_name': 'llama-3.1-8b-instant', 'ls_model_type': 'chat', 'ls_temperature': 0.7}, 'parent_ids': ['d7aee90a-32b2-4ef4-a5c0-09d4e662faf3', 'd23ca73b-48b0-4c4e-8339-51cbda81d3fc']}\n",
      "{'event': 'on_chat_model_stream', 'data': {'chunk': AIMessageChunk(content=\"'s\", additional_kwargs={}, response_metadata={}, id='run--653f93d8-1ec0-48bb-9218-473b9670d609')}, 'run_id': '653f93d8-1ec0-48bb-9218-473b9670d609', 'name': 'ChatGroq', 'tags': ['seq:step:1'], 'metadata': {'thread_id': '5', 'langgraph_step': 1, 'langgraph_node': 'superbot', 'langgraph_triggers': ('branch:to:superbot',), 'langgraph_path': ('__pregel_pull', 'superbot'), 'langgraph_checkpoint_ns': 'superbot:efce3668-e618-0078-9f80-fc5ef412157d', 'checkpoint_ns': 'superbot:efce3668-e618-0078-9f80-fc5ef412157d', 'ls_provider': 'groq', 'ls_model_name': 'llama-3.1-8b-instant', 'ls_model_type': 'chat', 'ls_temperature': 0.7}, 'parent_ids': ['d7aee90a-32b2-4ef4-a5c0-09d4e662faf3', 'd23ca73b-48b0-4c4e-8339-51cbda81d3fc']}\n",
      "{'event': 'on_chat_model_stream', 'data': {'chunk': AIMessageChunk(content=' great', additional_kwargs={}, response_metadata={}, id='run--653f93d8-1ec0-48bb-9218-473b9670d609')}, 'run_id': '653f93d8-1ec0-48bb-9218-473b9670d609', 'name': 'ChatGroq', 'tags': ['seq:step:1'], 'metadata': {'thread_id': '5', 'langgraph_step': 1, 'langgraph_node': 'superbot', 'langgraph_triggers': ('branch:to:superbot',), 'langgraph_path': ('__pregel_pull', 'superbot'), 'langgraph_checkpoint_ns': 'superbot:efce3668-e618-0078-9f80-fc5ef412157d', 'checkpoint_ns': 'superbot:efce3668-e618-0078-9f80-fc5ef412157d', 'ls_provider': 'groq', 'ls_model_name': 'llama-3.1-8b-instant', 'ls_model_type': 'chat', 'ls_temperature': 0.7}, 'parent_ids': ['d7aee90a-32b2-4ef4-a5c0-09d4e662faf3', 'd23ca73b-48b0-4c4e-8339-51cbda81d3fc']}\n",
      "{'event': 'on_chat_model_stream', 'data': {'chunk': AIMessageChunk(content=' to', additional_kwargs={}, response_metadata={}, id='run--653f93d8-1ec0-48bb-9218-473b9670d609')}, 'run_id': '653f93d8-1ec0-48bb-9218-473b9670d609', 'name': 'ChatGroq', 'tags': ['seq:step:1'], 'metadata': {'thread_id': '5', 'langgraph_step': 1, 'langgraph_node': 'superbot', 'langgraph_triggers': ('branch:to:superbot',), 'langgraph_path': ('__pregel_pull', 'superbot'), 'langgraph_checkpoint_ns': 'superbot:efce3668-e618-0078-9f80-fc5ef412157d', 'checkpoint_ns': 'superbot:efce3668-e618-0078-9f80-fc5ef412157d', 'ls_provider': 'groq', 'ls_model_name': 'llama-3.1-8b-instant', 'ls_model_type': 'chat', 'ls_temperature': 0.7}, 'parent_ids': ['d7aee90a-32b2-4ef4-a5c0-09d4e662faf3', 'd23ca73b-48b0-4c4e-8339-51cbda81d3fc']}\n",
      "{'event': 'on_chat_model_stream', 'data': {'chunk': AIMessageChunk(content=' hear', additional_kwargs={}, response_metadata={}, id='run--653f93d8-1ec0-48bb-9218-473b9670d609')}, 'run_id': '653f93d8-1ec0-48bb-9218-473b9670d609', 'name': 'ChatGroq', 'tags': ['seq:step:1'], 'metadata': {'thread_id': '5', 'langgraph_step': 1, 'langgraph_node': 'superbot', 'langgraph_triggers': ('branch:to:superbot',), 'langgraph_path': ('__pregel_pull', 'superbot'), 'langgraph_checkpoint_ns': 'superbot:efce3668-e618-0078-9f80-fc5ef412157d', 'checkpoint_ns': 'superbot:efce3668-e618-0078-9f80-fc5ef412157d', 'ls_provider': 'groq', 'ls_model_name': 'llama-3.1-8b-instant', 'ls_model_type': 'chat', 'ls_temperature': 0.7}, 'parent_ids': ['d7aee90a-32b2-4ef4-a5c0-09d4e662faf3', 'd23ca73b-48b0-4c4e-8339-51cbda81d3fc']}\n",
      "{'event': 'on_chat_model_stream', 'data': {'chunk': AIMessageChunk(content=' that', additional_kwargs={}, response_metadata={}, id='run--653f93d8-1ec0-48bb-9218-473b9670d609')}, 'run_id': '653f93d8-1ec0-48bb-9218-473b9670d609', 'name': 'ChatGroq', 'tags': ['seq:step:1'], 'metadata': {'thread_id': '5', 'langgraph_step': 1, 'langgraph_node': 'superbot', 'langgraph_triggers': ('branch:to:superbot',), 'langgraph_path': ('__pregel_pull', 'superbot'), 'langgraph_checkpoint_ns': 'superbot:efce3668-e618-0078-9f80-fc5ef412157d', 'checkpoint_ns': 'superbot:efce3668-e618-0078-9f80-fc5ef412157d', 'ls_provider': 'groq', 'ls_model_name': 'llama-3.1-8b-instant', 'ls_model_type': 'chat', 'ls_temperature': 0.7}, 'parent_ids': ['d7aee90a-32b2-4ef4-a5c0-09d4e662faf3', 'd23ca73b-48b0-4c4e-8339-51cbda81d3fc']}\n",
      "{'event': 'on_chat_model_stream', 'data': {'chunk': AIMessageChunk(content=' you', additional_kwargs={}, response_metadata={}, id='run--653f93d8-1ec0-48bb-9218-473b9670d609')}, 'run_id': '653f93d8-1ec0-48bb-9218-473b9670d609', 'name': 'ChatGroq', 'tags': ['seq:step:1'], 'metadata': {'thread_id': '5', 'langgraph_step': 1, 'langgraph_node': 'superbot', 'langgraph_triggers': ('branch:to:superbot',), 'langgraph_path': ('__pregel_pull', 'superbot'), 'langgraph_checkpoint_ns': 'superbot:efce3668-e618-0078-9f80-fc5ef412157d', 'checkpoint_ns': 'superbot:efce3668-e618-0078-9f80-fc5ef412157d', 'ls_provider': 'groq', 'ls_model_name': 'llama-3.1-8b-instant', 'ls_model_type': 'chat', 'ls_temperature': 0.7}, 'parent_ids': ['d7aee90a-32b2-4ef4-a5c0-09d4e662faf3', 'd23ca73b-48b0-4c4e-8339-51cbda81d3fc']}\n",
      "{'event': 'on_chat_model_stream', 'data': {'chunk': AIMessageChunk(content=' enjoy', additional_kwargs={}, response_metadata={}, id='run--653f93d8-1ec0-48bb-9218-473b9670d609')}, 'run_id': '653f93d8-1ec0-48bb-9218-473b9670d609', 'name': 'ChatGroq', 'tags': ['seq:step:1'], 'metadata': {'thread_id': '5', 'langgraph_step': 1, 'langgraph_node': 'superbot', 'langgraph_triggers': ('branch:to:superbot',), 'langgraph_path': ('__pregel_pull', 'superbot'), 'langgraph_checkpoint_ns': 'superbot:efce3668-e618-0078-9f80-fc5ef412157d', 'checkpoint_ns': 'superbot:efce3668-e618-0078-9f80-fc5ef412157d', 'ls_provider': 'groq', 'ls_model_name': 'llama-3.1-8b-instant', 'ls_model_type': 'chat', 'ls_temperature': 0.7}, 'parent_ids': ['d7aee90a-32b2-4ef4-a5c0-09d4e662faf3', 'd23ca73b-48b0-4c4e-8339-51cbda81d3fc']}\n",
      "{'event': 'on_chat_model_stream', 'data': {'chunk': AIMessageChunk(content=' reading', additional_kwargs={}, response_metadata={}, id='run--653f93d8-1ec0-48bb-9218-473b9670d609')}, 'run_id': '653f93d8-1ec0-48bb-9218-473b9670d609', 'name': 'ChatGroq', 'tags': ['seq:step:1'], 'metadata': {'thread_id': '5', 'langgraph_step': 1, 'langgraph_node': 'superbot', 'langgraph_triggers': ('branch:to:superbot',), 'langgraph_path': ('__pregel_pull', 'superbot'), 'langgraph_checkpoint_ns': 'superbot:efce3668-e618-0078-9f80-fc5ef412157d', 'checkpoint_ns': 'superbot:efce3668-e618-0078-9f80-fc5ef412157d', 'ls_provider': 'groq', 'ls_model_name': 'llama-3.1-8b-instant', 'ls_model_type': 'chat', 'ls_temperature': 0.7}, 'parent_ids': ['d7aee90a-32b2-4ef4-a5c0-09d4e662faf3', 'd23ca73b-48b0-4c4e-8339-51cbda81d3fc']}\n",
      "{'event': 'on_chat_model_stream', 'data': {'chunk': AIMessageChunk(content='.', additional_kwargs={}, response_metadata={}, id='run--653f93d8-1ec0-48bb-9218-473b9670d609')}, 'run_id': '653f93d8-1ec0-48bb-9218-473b9670d609', 'name': 'ChatGroq', 'tags': ['seq:step:1'], 'metadata': {'thread_id': '5', 'langgraph_step': 1, 'langgraph_node': 'superbot', 'langgraph_triggers': ('branch:to:superbot',), 'langgraph_path': ('__pregel_pull', 'superbot'), 'langgraph_checkpoint_ns': 'superbot:efce3668-e618-0078-9f80-fc5ef412157d', 'checkpoint_ns': 'superbot:efce3668-e618-0078-9f80-fc5ef412157d', 'ls_provider': 'groq', 'ls_model_name': 'llama-3.1-8b-instant', 'ls_model_type': 'chat', 'ls_temperature': 0.7}, 'parent_ids': ['d7aee90a-32b2-4ef4-a5c0-09d4e662faf3', 'd23ca73b-48b0-4c4e-8339-51cbda81d3fc']}\n",
      "{'event': 'on_chat_model_stream', 'data': {'chunk': AIMessageChunk(content=' Reading', additional_kwargs={}, response_metadata={}, id='run--653f93d8-1ec0-48bb-9218-473b9670d609')}, 'run_id': '653f93d8-1ec0-48bb-9218-473b9670d609', 'name': 'ChatGroq', 'tags': ['seq:step:1'], 'metadata': {'thread_id': '5', 'langgraph_step': 1, 'langgraph_node': 'superbot', 'langgraph_triggers': ('branch:to:superbot',), 'langgraph_path': ('__pregel_pull', 'superbot'), 'langgraph_checkpoint_ns': 'superbot:efce3668-e618-0078-9f80-fc5ef412157d', 'checkpoint_ns': 'superbot:efce3668-e618-0078-9f80-fc5ef412157d', 'ls_provider': 'groq', 'ls_model_name': 'llama-3.1-8b-instant', 'ls_model_type': 'chat', 'ls_temperature': 0.7}, 'parent_ids': ['d7aee90a-32b2-4ef4-a5c0-09d4e662faf3', 'd23ca73b-48b0-4c4e-8339-51cbda81d3fc']}\n",
      "{'event': 'on_chat_model_stream', 'data': {'chunk': AIMessageChunk(content=' can', additional_kwargs={}, response_metadata={}, id='run--653f93d8-1ec0-48bb-9218-473b9670d609')}, 'run_id': '653f93d8-1ec0-48bb-9218-473b9670d609', 'name': 'ChatGroq', 'tags': ['seq:step:1'], 'metadata': {'thread_id': '5', 'langgraph_step': 1, 'langgraph_node': 'superbot', 'langgraph_triggers': ('branch:to:superbot',), 'langgraph_path': ('__pregel_pull', 'superbot'), 'langgraph_checkpoint_ns': 'superbot:efce3668-e618-0078-9f80-fc5ef412157d', 'checkpoint_ns': 'superbot:efce3668-e618-0078-9f80-fc5ef412157d', 'ls_provider': 'groq', 'ls_model_name': 'llama-3.1-8b-instant', 'ls_model_type': 'chat', 'ls_temperature': 0.7}, 'parent_ids': ['d7aee90a-32b2-4ef4-a5c0-09d4e662faf3', 'd23ca73b-48b0-4c4e-8339-51cbda81d3fc']}\n",
      "{'event': 'on_chat_model_stream', 'data': {'chunk': AIMessageChunk(content=' be', additional_kwargs={}, response_metadata={}, id='run--653f93d8-1ec0-48bb-9218-473b9670d609')}, 'run_id': '653f93d8-1ec0-48bb-9218-473b9670d609', 'name': 'ChatGroq', 'tags': ['seq:step:1'], 'metadata': {'thread_id': '5', 'langgraph_step': 1, 'langgraph_node': 'superbot', 'langgraph_triggers': ('branch:to:superbot',), 'langgraph_path': ('__pregel_pull', 'superbot'), 'langgraph_checkpoint_ns': 'superbot:efce3668-e618-0078-9f80-fc5ef412157d', 'checkpoint_ns': 'superbot:efce3668-e618-0078-9f80-fc5ef412157d', 'ls_provider': 'groq', 'ls_model_name': 'llama-3.1-8b-instant', 'ls_model_type': 'chat', 'ls_temperature': 0.7}, 'parent_ids': ['d7aee90a-32b2-4ef4-a5c0-09d4e662faf3', 'd23ca73b-48b0-4c4e-8339-51cbda81d3fc']}\n",
      "{'event': 'on_chat_model_stream', 'data': {'chunk': AIMessageChunk(content=' such', additional_kwargs={}, response_metadata={}, id='run--653f93d8-1ec0-48bb-9218-473b9670d609')}, 'run_id': '653f93d8-1ec0-48bb-9218-473b9670d609', 'name': 'ChatGroq', 'tags': ['seq:step:1'], 'metadata': {'thread_id': '5', 'langgraph_step': 1, 'langgraph_node': 'superbot', 'langgraph_triggers': ('branch:to:superbot',), 'langgraph_path': ('__pregel_pull', 'superbot'), 'langgraph_checkpoint_ns': 'superbot:efce3668-e618-0078-9f80-fc5ef412157d', 'checkpoint_ns': 'superbot:efce3668-e618-0078-9f80-fc5ef412157d', 'ls_provider': 'groq', 'ls_model_name': 'llama-3.1-8b-instant', 'ls_model_type': 'chat', 'ls_temperature': 0.7}, 'parent_ids': ['d7aee90a-32b2-4ef4-a5c0-09d4e662faf3', 'd23ca73b-48b0-4c4e-8339-51cbda81d3fc']}\n",
      "{'event': 'on_chat_model_stream', 'data': {'chunk': AIMessageChunk(content=' a', additional_kwargs={}, response_metadata={}, id='run--653f93d8-1ec0-48bb-9218-473b9670d609')}, 'run_id': '653f93d8-1ec0-48bb-9218-473b9670d609', 'name': 'ChatGroq', 'tags': ['seq:step:1'], 'metadata': {'thread_id': '5', 'langgraph_step': 1, 'langgraph_node': 'superbot', 'langgraph_triggers': ('branch:to:superbot',), 'langgraph_path': ('__pregel_pull', 'superbot'), 'langgraph_checkpoint_ns': 'superbot:efce3668-e618-0078-9f80-fc5ef412157d', 'checkpoint_ns': 'superbot:efce3668-e618-0078-9f80-fc5ef412157d', 'ls_provider': 'groq', 'ls_model_name': 'llama-3.1-8b-instant', 'ls_model_type': 'chat', 'ls_temperature': 0.7}, 'parent_ids': ['d7aee90a-32b2-4ef4-a5c0-09d4e662faf3', 'd23ca73b-48b0-4c4e-8339-51cbda81d3fc']}\n",
      "{'event': 'on_chat_model_stream', 'data': {'chunk': AIMessageChunk(content=' wonderful', additional_kwargs={}, response_metadata={}, id='run--653f93d8-1ec0-48bb-9218-473b9670d609')}, 'run_id': '653f93d8-1ec0-48bb-9218-473b9670d609', 'name': 'ChatGroq', 'tags': ['seq:step:1'], 'metadata': {'thread_id': '5', 'langgraph_step': 1, 'langgraph_node': 'superbot', 'langgraph_triggers': ('branch:to:superbot',), 'langgraph_path': ('__pregel_pull', 'superbot'), 'langgraph_checkpoint_ns': 'superbot:efce3668-e618-0078-9f80-fc5ef412157d', 'checkpoint_ns': 'superbot:efce3668-e618-0078-9f80-fc5ef412157d', 'ls_provider': 'groq', 'ls_model_name': 'llama-3.1-8b-instant', 'ls_model_type': 'chat', 'ls_temperature': 0.7}, 'parent_ids': ['d7aee90a-32b2-4ef4-a5c0-09d4e662faf3', 'd23ca73b-48b0-4c4e-8339-51cbda81d3fc']}\n",
      "{'event': 'on_chat_model_stream', 'data': {'chunk': AIMessageChunk(content=' hobby', additional_kwargs={}, response_metadata={}, id='run--653f93d8-1ec0-48bb-9218-473b9670d609')}, 'run_id': '653f93d8-1ec0-48bb-9218-473b9670d609', 'name': 'ChatGroq', 'tags': ['seq:step:1'], 'metadata': {'thread_id': '5', 'langgraph_step': 1, 'langgraph_node': 'superbot', 'langgraph_triggers': ('branch:to:superbot',), 'langgraph_path': ('__pregel_pull', 'superbot'), 'langgraph_checkpoint_ns': 'superbot:efce3668-e618-0078-9f80-fc5ef412157d', 'checkpoint_ns': 'superbot:efce3668-e618-0078-9f80-fc5ef412157d', 'ls_provider': 'groq', 'ls_model_name': 'llama-3.1-8b-instant', 'ls_model_type': 'chat', 'ls_temperature': 0.7}, 'parent_ids': ['d7aee90a-32b2-4ef4-a5c0-09d4e662faf3', 'd23ca73b-48b0-4c4e-8339-51cbda81d3fc']}\n",
      "{'event': 'on_chat_model_stream', 'data': {'chunk': AIMessageChunk(content=',', additional_kwargs={}, response_metadata={}, id='run--653f93d8-1ec0-48bb-9218-473b9670d609')}, 'run_id': '653f93d8-1ec0-48bb-9218-473b9670d609', 'name': 'ChatGroq', 'tags': ['seq:step:1'], 'metadata': {'thread_id': '5', 'langgraph_step': 1, 'langgraph_node': 'superbot', 'langgraph_triggers': ('branch:to:superbot',), 'langgraph_path': ('__pregel_pull', 'superbot'), 'langgraph_checkpoint_ns': 'superbot:efce3668-e618-0078-9f80-fc5ef412157d', 'checkpoint_ns': 'superbot:efce3668-e618-0078-9f80-fc5ef412157d', 'ls_provider': 'groq', 'ls_model_name': 'llama-3.1-8b-instant', 'ls_model_type': 'chat', 'ls_temperature': 0.7}, 'parent_ids': ['d7aee90a-32b2-4ef4-a5c0-09d4e662faf3', 'd23ca73b-48b0-4c4e-8339-51cbda81d3fc']}\n",
      "{'event': 'on_chat_model_stream', 'data': {'chunk': AIMessageChunk(content=' allowing', additional_kwargs={}, response_metadata={}, id='run--653f93d8-1ec0-48bb-9218-473b9670d609')}, 'run_id': '653f93d8-1ec0-48bb-9218-473b9670d609', 'name': 'ChatGroq', 'tags': ['seq:step:1'], 'metadata': {'thread_id': '5', 'langgraph_step': 1, 'langgraph_node': 'superbot', 'langgraph_triggers': ('branch:to:superbot',), 'langgraph_path': ('__pregel_pull', 'superbot'), 'langgraph_checkpoint_ns': 'superbot:efce3668-e618-0078-9f80-fc5ef412157d', 'checkpoint_ns': 'superbot:efce3668-e618-0078-9f80-fc5ef412157d', 'ls_provider': 'groq', 'ls_model_name': 'llama-3.1-8b-instant', 'ls_model_type': 'chat', 'ls_temperature': 0.7}, 'parent_ids': ['d7aee90a-32b2-4ef4-a5c0-09d4e662faf3', 'd23ca73b-48b0-4c4e-8339-51cbda81d3fc']}\n",
      "{'event': 'on_chat_model_stream', 'data': {'chunk': AIMessageChunk(content=' you', additional_kwargs={}, response_metadata={}, id='run--653f93d8-1ec0-48bb-9218-473b9670d609')}, 'run_id': '653f93d8-1ec0-48bb-9218-473b9670d609', 'name': 'ChatGroq', 'tags': ['seq:step:1'], 'metadata': {'thread_id': '5', 'langgraph_step': 1, 'langgraph_node': 'superbot', 'langgraph_triggers': ('branch:to:superbot',), 'langgraph_path': ('__pregel_pull', 'superbot'), 'langgraph_checkpoint_ns': 'superbot:efce3668-e618-0078-9f80-fc5ef412157d', 'checkpoint_ns': 'superbot:efce3668-e618-0078-9f80-fc5ef412157d', 'ls_provider': 'groq', 'ls_model_name': 'llama-3.1-8b-instant', 'ls_model_type': 'chat', 'ls_temperature': 0.7}, 'parent_ids': ['d7aee90a-32b2-4ef4-a5c0-09d4e662faf3', 'd23ca73b-48b0-4c4e-8339-51cbda81d3fc']}\n",
      "{'event': 'on_chat_model_stream', 'data': {'chunk': AIMessageChunk(content=' to', additional_kwargs={}, response_metadata={}, id='run--653f93d8-1ec0-48bb-9218-473b9670d609')}, 'run_id': '653f93d8-1ec0-48bb-9218-473b9670d609', 'name': 'ChatGroq', 'tags': ['seq:step:1'], 'metadata': {'thread_id': '5', 'langgraph_step': 1, 'langgraph_node': 'superbot', 'langgraph_triggers': ('branch:to:superbot',), 'langgraph_path': ('__pregel_pull', 'superbot'), 'langgraph_checkpoint_ns': 'superbot:efce3668-e618-0078-9f80-fc5ef412157d', 'checkpoint_ns': 'superbot:efce3668-e618-0078-9f80-fc5ef412157d', 'ls_provider': 'groq', 'ls_model_name': 'llama-3.1-8b-instant', 'ls_model_type': 'chat', 'ls_temperature': 0.7}, 'parent_ids': ['d7aee90a-32b2-4ef4-a5c0-09d4e662faf3', 'd23ca73b-48b0-4c4e-8339-51cbda81d3fc']}\n",
      "{'event': 'on_chat_model_stream', 'data': {'chunk': AIMessageChunk(content=' escape', additional_kwargs={}, response_metadata={}, id='run--653f93d8-1ec0-48bb-9218-473b9670d609')}, 'run_id': '653f93d8-1ec0-48bb-9218-473b9670d609', 'name': 'ChatGroq', 'tags': ['seq:step:1'], 'metadata': {'thread_id': '5', 'langgraph_step': 1, 'langgraph_node': 'superbot', 'langgraph_triggers': ('branch:to:superbot',), 'langgraph_path': ('__pregel_pull', 'superbot'), 'langgraph_checkpoint_ns': 'superbot:efce3668-e618-0078-9f80-fc5ef412157d', 'checkpoint_ns': 'superbot:efce3668-e618-0078-9f80-fc5ef412157d', 'ls_provider': 'groq', 'ls_model_name': 'llama-3.1-8b-instant', 'ls_model_type': 'chat', 'ls_temperature': 0.7}, 'parent_ids': ['d7aee90a-32b2-4ef4-a5c0-09d4e662faf3', 'd23ca73b-48b0-4c4e-8339-51cbda81d3fc']}\n",
      "{'event': 'on_chat_model_stream', 'data': {'chunk': AIMessageChunk(content=' into', additional_kwargs={}, response_metadata={}, id='run--653f93d8-1ec0-48bb-9218-473b9670d609')}, 'run_id': '653f93d8-1ec0-48bb-9218-473b9670d609', 'name': 'ChatGroq', 'tags': ['seq:step:1'], 'metadata': {'thread_id': '5', 'langgraph_step': 1, 'langgraph_node': 'superbot', 'langgraph_triggers': ('branch:to:superbot',), 'langgraph_path': ('__pregel_pull', 'superbot'), 'langgraph_checkpoint_ns': 'superbot:efce3668-e618-0078-9f80-fc5ef412157d', 'checkpoint_ns': 'superbot:efce3668-e618-0078-9f80-fc5ef412157d', 'ls_provider': 'groq', 'ls_model_name': 'llama-3.1-8b-instant', 'ls_model_type': 'chat', 'ls_temperature': 0.7}, 'parent_ids': ['d7aee90a-32b2-4ef4-a5c0-09d4e662faf3', 'd23ca73b-48b0-4c4e-8339-51cbda81d3fc']}\n",
      "{'event': 'on_chat_model_stream', 'data': {'chunk': AIMessageChunk(content=' different', additional_kwargs={}, response_metadata={}, id='run--653f93d8-1ec0-48bb-9218-473b9670d609')}, 'run_id': '653f93d8-1ec0-48bb-9218-473b9670d609', 'name': 'ChatGroq', 'tags': ['seq:step:1'], 'metadata': {'thread_id': '5', 'langgraph_step': 1, 'langgraph_node': 'superbot', 'langgraph_triggers': ('branch:to:superbot',), 'langgraph_path': ('__pregel_pull', 'superbot'), 'langgraph_checkpoint_ns': 'superbot:efce3668-e618-0078-9f80-fc5ef412157d', 'checkpoint_ns': 'superbot:efce3668-e618-0078-9f80-fc5ef412157d', 'ls_provider': 'groq', 'ls_model_name': 'llama-3.1-8b-instant', 'ls_model_type': 'chat', 'ls_temperature': 0.7}, 'parent_ids': ['d7aee90a-32b2-4ef4-a5c0-09d4e662faf3', 'd23ca73b-48b0-4c4e-8339-51cbda81d3fc']}\n",
      "{'event': 'on_chat_model_stream', 'data': {'chunk': AIMessageChunk(content=' worlds', additional_kwargs={}, response_metadata={}, id='run--653f93d8-1ec0-48bb-9218-473b9670d609')}, 'run_id': '653f93d8-1ec0-48bb-9218-473b9670d609', 'name': 'ChatGroq', 'tags': ['seq:step:1'], 'metadata': {'thread_id': '5', 'langgraph_step': 1, 'langgraph_node': 'superbot', 'langgraph_triggers': ('branch:to:superbot',), 'langgraph_path': ('__pregel_pull', 'superbot'), 'langgraph_checkpoint_ns': 'superbot:efce3668-e618-0078-9f80-fc5ef412157d', 'checkpoint_ns': 'superbot:efce3668-e618-0078-9f80-fc5ef412157d', 'ls_provider': 'groq', 'ls_model_name': 'llama-3.1-8b-instant', 'ls_model_type': 'chat', 'ls_temperature': 0.7}, 'parent_ids': ['d7aee90a-32b2-4ef4-a5c0-09d4e662faf3', 'd23ca73b-48b0-4c4e-8339-51cbda81d3fc']}\n",
      "{'event': 'on_chat_model_stream', 'data': {'chunk': AIMessageChunk(content=',', additional_kwargs={}, response_metadata={}, id='run--653f93d8-1ec0-48bb-9218-473b9670d609')}, 'run_id': '653f93d8-1ec0-48bb-9218-473b9670d609', 'name': 'ChatGroq', 'tags': ['seq:step:1'], 'metadata': {'thread_id': '5', 'langgraph_step': 1, 'langgraph_node': 'superbot', 'langgraph_triggers': ('branch:to:superbot',), 'langgraph_path': ('__pregel_pull', 'superbot'), 'langgraph_checkpoint_ns': 'superbot:efce3668-e618-0078-9f80-fc5ef412157d', 'checkpoint_ns': 'superbot:efce3668-e618-0078-9f80-fc5ef412157d', 'ls_provider': 'groq', 'ls_model_name': 'llama-3.1-8b-instant', 'ls_model_type': 'chat', 'ls_temperature': 0.7}, 'parent_ids': ['d7aee90a-32b2-4ef4-a5c0-09d4e662faf3', 'd23ca73b-48b0-4c4e-8339-51cbda81d3fc']}\n",
      "{'event': 'on_chat_model_stream', 'data': {'chunk': AIMessageChunk(content=' learn', additional_kwargs={}, response_metadata={}, id='run--653f93d8-1ec0-48bb-9218-473b9670d609')}, 'run_id': '653f93d8-1ec0-48bb-9218-473b9670d609', 'name': 'ChatGroq', 'tags': ['seq:step:1'], 'metadata': {'thread_id': '5', 'langgraph_step': 1, 'langgraph_node': 'superbot', 'langgraph_triggers': ('branch:to:superbot',), 'langgraph_path': ('__pregel_pull', 'superbot'), 'langgraph_checkpoint_ns': 'superbot:efce3668-e618-0078-9f80-fc5ef412157d', 'checkpoint_ns': 'superbot:efce3668-e618-0078-9f80-fc5ef412157d', 'ls_provider': 'groq', 'ls_model_name': 'llama-3.1-8b-instant', 'ls_model_type': 'chat', 'ls_temperature': 0.7}, 'parent_ids': ['d7aee90a-32b2-4ef4-a5c0-09d4e662faf3', 'd23ca73b-48b0-4c4e-8339-51cbda81d3fc']}\n",
      "{'event': 'on_chat_model_stream', 'data': {'chunk': AIMessageChunk(content=' new', additional_kwargs={}, response_metadata={}, id='run--653f93d8-1ec0-48bb-9218-473b9670d609')}, 'run_id': '653f93d8-1ec0-48bb-9218-473b9670d609', 'name': 'ChatGroq', 'tags': ['seq:step:1'], 'metadata': {'thread_id': '5', 'langgraph_step': 1, 'langgraph_node': 'superbot', 'langgraph_triggers': ('branch:to:superbot',), 'langgraph_path': ('__pregel_pull', 'superbot'), 'langgraph_checkpoint_ns': 'superbot:efce3668-e618-0078-9f80-fc5ef412157d', 'checkpoint_ns': 'superbot:efce3668-e618-0078-9f80-fc5ef412157d', 'ls_provider': 'groq', 'ls_model_name': 'llama-3.1-8b-instant', 'ls_model_type': 'chat', 'ls_temperature': 0.7}, 'parent_ids': ['d7aee90a-32b2-4ef4-a5c0-09d4e662faf3', 'd23ca73b-48b0-4c4e-8339-51cbda81d3fc']}\n",
      "{'event': 'on_chat_model_stream', 'data': {'chunk': AIMessageChunk(content=' things', additional_kwargs={}, response_metadata={}, id='run--653f93d8-1ec0-48bb-9218-473b9670d609')}, 'run_id': '653f93d8-1ec0-48bb-9218-473b9670d609', 'name': 'ChatGroq', 'tags': ['seq:step:1'], 'metadata': {'thread_id': '5', 'langgraph_step': 1, 'langgraph_node': 'superbot', 'langgraph_triggers': ('branch:to:superbot',), 'langgraph_path': ('__pregel_pull', 'superbot'), 'langgraph_checkpoint_ns': 'superbot:efce3668-e618-0078-9f80-fc5ef412157d', 'checkpoint_ns': 'superbot:efce3668-e618-0078-9f80-fc5ef412157d', 'ls_provider': 'groq', 'ls_model_name': 'llama-3.1-8b-instant', 'ls_model_type': 'chat', 'ls_temperature': 0.7}, 'parent_ids': ['d7aee90a-32b2-4ef4-a5c0-09d4e662faf3', 'd23ca73b-48b0-4c4e-8339-51cbda81d3fc']}\n",
      "{'event': 'on_chat_model_stream', 'data': {'chunk': AIMessageChunk(content=',', additional_kwargs={}, response_metadata={}, id='run--653f93d8-1ec0-48bb-9218-473b9670d609')}, 'run_id': '653f93d8-1ec0-48bb-9218-473b9670d609', 'name': 'ChatGroq', 'tags': ['seq:step:1'], 'metadata': {'thread_id': '5', 'langgraph_step': 1, 'langgraph_node': 'superbot', 'langgraph_triggers': ('branch:to:superbot',), 'langgraph_path': ('__pregel_pull', 'superbot'), 'langgraph_checkpoint_ns': 'superbot:efce3668-e618-0078-9f80-fc5ef412157d', 'checkpoint_ns': 'superbot:efce3668-e618-0078-9f80-fc5ef412157d', 'ls_provider': 'groq', 'ls_model_name': 'llama-3.1-8b-instant', 'ls_model_type': 'chat', 'ls_temperature': 0.7}, 'parent_ids': ['d7aee90a-32b2-4ef4-a5c0-09d4e662faf3', 'd23ca73b-48b0-4c4e-8339-51cbda81d3fc']}\n",
      "{'event': 'on_chat_model_stream', 'data': {'chunk': AIMessageChunk(content=' and', additional_kwargs={}, response_metadata={}, id='run--653f93d8-1ec0-48bb-9218-473b9670d609')}, 'run_id': '653f93d8-1ec0-48bb-9218-473b9670d609', 'name': 'ChatGroq', 'tags': ['seq:step:1'], 'metadata': {'thread_id': '5', 'langgraph_step': 1, 'langgraph_node': 'superbot', 'langgraph_triggers': ('branch:to:superbot',), 'langgraph_path': ('__pregel_pull', 'superbot'), 'langgraph_checkpoint_ns': 'superbot:efce3668-e618-0078-9f80-fc5ef412157d', 'checkpoint_ns': 'superbot:efce3668-e618-0078-9f80-fc5ef412157d', 'ls_provider': 'groq', 'ls_model_name': 'llama-3.1-8b-instant', 'ls_model_type': 'chat', 'ls_temperature': 0.7}, 'parent_ids': ['d7aee90a-32b2-4ef4-a5c0-09d4e662faf3', 'd23ca73b-48b0-4c4e-8339-51cbda81d3fc']}\n",
      "{'event': 'on_chat_model_stream', 'data': {'chunk': AIMessageChunk(content=' explore', additional_kwargs={}, response_metadata={}, id='run--653f93d8-1ec0-48bb-9218-473b9670d609')}, 'run_id': '653f93d8-1ec0-48bb-9218-473b9670d609', 'name': 'ChatGroq', 'tags': ['seq:step:1'], 'metadata': {'thread_id': '5', 'langgraph_step': 1, 'langgraph_node': 'superbot', 'langgraph_triggers': ('branch:to:superbot',), 'langgraph_path': ('__pregel_pull', 'superbot'), 'langgraph_checkpoint_ns': 'superbot:efce3668-e618-0078-9f80-fc5ef412157d', 'checkpoint_ns': 'superbot:efce3668-e618-0078-9f80-fc5ef412157d', 'ls_provider': 'groq', 'ls_model_name': 'llama-3.1-8b-instant', 'ls_model_type': 'chat', 'ls_temperature': 0.7}, 'parent_ids': ['d7aee90a-32b2-4ef4-a5c0-09d4e662faf3', 'd23ca73b-48b0-4c4e-8339-51cbda81d3fc']}\n",
      "{'event': 'on_chat_model_stream', 'data': {'chunk': AIMessageChunk(content=' new', additional_kwargs={}, response_metadata={}, id='run--653f93d8-1ec0-48bb-9218-473b9670d609')}, 'run_id': '653f93d8-1ec0-48bb-9218-473b9670d609', 'name': 'ChatGroq', 'tags': ['seq:step:1'], 'metadata': {'thread_id': '5', 'langgraph_step': 1, 'langgraph_node': 'superbot', 'langgraph_triggers': ('branch:to:superbot',), 'langgraph_path': ('__pregel_pull', 'superbot'), 'langgraph_checkpoint_ns': 'superbot:efce3668-e618-0078-9f80-fc5ef412157d', 'checkpoint_ns': 'superbot:efce3668-e618-0078-9f80-fc5ef412157d', 'ls_provider': 'groq', 'ls_model_name': 'llama-3.1-8b-instant', 'ls_model_type': 'chat', 'ls_temperature': 0.7}, 'parent_ids': ['d7aee90a-32b2-4ef4-a5c0-09d4e662faf3', 'd23ca73b-48b0-4c4e-8339-51cbda81d3fc']}\n",
      "{'event': 'on_chat_model_stream', 'data': {'chunk': AIMessageChunk(content=' ideas', additional_kwargs={}, response_metadata={}, id='run--653f93d8-1ec0-48bb-9218-473b9670d609')}, 'run_id': '653f93d8-1ec0-48bb-9218-473b9670d609', 'name': 'ChatGroq', 'tags': ['seq:step:1'], 'metadata': {'thread_id': '5', 'langgraph_step': 1, 'langgraph_node': 'superbot', 'langgraph_triggers': ('branch:to:superbot',), 'langgraph_path': ('__pregel_pull', 'superbot'), 'langgraph_checkpoint_ns': 'superbot:efce3668-e618-0078-9f80-fc5ef412157d', 'checkpoint_ns': 'superbot:efce3668-e618-0078-9f80-fc5ef412157d', 'ls_provider': 'groq', 'ls_model_name': 'llama-3.1-8b-instant', 'ls_model_type': 'chat', 'ls_temperature': 0.7}, 'parent_ids': ['d7aee90a-32b2-4ef4-a5c0-09d4e662faf3', 'd23ca73b-48b0-4c4e-8339-51cbda81d3fc']}\n",
      "{'event': 'on_chat_model_stream', 'data': {'chunk': AIMessageChunk(content='.', additional_kwargs={}, response_metadata={}, id='run--653f93d8-1ec0-48bb-9218-473b9670d609')}, 'run_id': '653f93d8-1ec0-48bb-9218-473b9670d609', 'name': 'ChatGroq', 'tags': ['seq:step:1'], 'metadata': {'thread_id': '5', 'langgraph_step': 1, 'langgraph_node': 'superbot', 'langgraph_triggers': ('branch:to:superbot',), 'langgraph_path': ('__pregel_pull', 'superbot'), 'langgraph_checkpoint_ns': 'superbot:efce3668-e618-0078-9f80-fc5ef412157d', 'checkpoint_ns': 'superbot:efce3668-e618-0078-9f80-fc5ef412157d', 'ls_provider': 'groq', 'ls_model_name': 'llama-3.1-8b-instant', 'ls_model_type': 'chat', 'ls_temperature': 0.7}, 'parent_ids': ['d7aee90a-32b2-4ef4-a5c0-09d4e662faf3', 'd23ca73b-48b0-4c4e-8339-51cbda81d3fc']}\n",
      "{'event': 'on_chat_model_stream', 'data': {'chunk': AIMessageChunk(content=' What', additional_kwargs={}, response_metadata={}, id='run--653f93d8-1ec0-48bb-9218-473b9670d609')}, 'run_id': '653f93d8-1ec0-48bb-9218-473b9670d609', 'name': 'ChatGroq', 'tags': ['seq:step:1'], 'metadata': {'thread_id': '5', 'langgraph_step': 1, 'langgraph_node': 'superbot', 'langgraph_triggers': ('branch:to:superbot',), 'langgraph_path': ('__pregel_pull', 'superbot'), 'langgraph_checkpoint_ns': 'superbot:efce3668-e618-0078-9f80-fc5ef412157d', 'checkpoint_ns': 'superbot:efce3668-e618-0078-9f80-fc5ef412157d', 'ls_provider': 'groq', 'ls_model_name': 'llama-3.1-8b-instant', 'ls_model_type': 'chat', 'ls_temperature': 0.7}, 'parent_ids': ['d7aee90a-32b2-4ef4-a5c0-09d4e662faf3', 'd23ca73b-48b0-4c4e-8339-51cbda81d3fc']}\n",
      "{'event': 'on_chat_model_stream', 'data': {'chunk': AIMessageChunk(content=' kind', additional_kwargs={}, response_metadata={}, id='run--653f93d8-1ec0-48bb-9218-473b9670d609')}, 'run_id': '653f93d8-1ec0-48bb-9218-473b9670d609', 'name': 'ChatGroq', 'tags': ['seq:step:1'], 'metadata': {'thread_id': '5', 'langgraph_step': 1, 'langgraph_node': 'superbot', 'langgraph_triggers': ('branch:to:superbot',), 'langgraph_path': ('__pregel_pull', 'superbot'), 'langgraph_checkpoint_ns': 'superbot:efce3668-e618-0078-9f80-fc5ef412157d', 'checkpoint_ns': 'superbot:efce3668-e618-0078-9f80-fc5ef412157d', 'ls_provider': 'groq', 'ls_model_name': 'llama-3.1-8b-instant', 'ls_model_type': 'chat', 'ls_temperature': 0.7}, 'parent_ids': ['d7aee90a-32b2-4ef4-a5c0-09d4e662faf3', 'd23ca73b-48b0-4c4e-8339-51cbda81d3fc']}\n",
      "{'event': 'on_chat_model_stream', 'data': {'chunk': AIMessageChunk(content=' of', additional_kwargs={}, response_metadata={}, id='run--653f93d8-1ec0-48bb-9218-473b9670d609')}, 'run_id': '653f93d8-1ec0-48bb-9218-473b9670d609', 'name': 'ChatGroq', 'tags': ['seq:step:1'], 'metadata': {'thread_id': '5', 'langgraph_step': 1, 'langgraph_node': 'superbot', 'langgraph_triggers': ('branch:to:superbot',), 'langgraph_path': ('__pregel_pull', 'superbot'), 'langgraph_checkpoint_ns': 'superbot:efce3668-e618-0078-9f80-fc5ef412157d', 'checkpoint_ns': 'superbot:efce3668-e618-0078-9f80-fc5ef412157d', 'ls_provider': 'groq', 'ls_model_name': 'llama-3.1-8b-instant', 'ls_model_type': 'chat', 'ls_temperature': 0.7}, 'parent_ids': ['d7aee90a-32b2-4ef4-a5c0-09d4e662faf3', 'd23ca73b-48b0-4c4e-8339-51cbda81d3fc']}\n",
      "{'event': 'on_chat_model_stream', 'data': {'chunk': AIMessageChunk(content=' books', additional_kwargs={}, response_metadata={}, id='run--653f93d8-1ec0-48bb-9218-473b9670d609')}, 'run_id': '653f93d8-1ec0-48bb-9218-473b9670d609', 'name': 'ChatGroq', 'tags': ['seq:step:1'], 'metadata': {'thread_id': '5', 'langgraph_step': 1, 'langgraph_node': 'superbot', 'langgraph_triggers': ('branch:to:superbot',), 'langgraph_path': ('__pregel_pull', 'superbot'), 'langgraph_checkpoint_ns': 'superbot:efce3668-e618-0078-9f80-fc5ef412157d', 'checkpoint_ns': 'superbot:efce3668-e618-0078-9f80-fc5ef412157d', 'ls_provider': 'groq', 'ls_model_name': 'llama-3.1-8b-instant', 'ls_model_type': 'chat', 'ls_temperature': 0.7}, 'parent_ids': ['d7aee90a-32b2-4ef4-a5c0-09d4e662faf3', 'd23ca73b-48b0-4c4e-8339-51cbda81d3fc']}\n",
      "{'event': 'on_chat_model_stream', 'data': {'chunk': AIMessageChunk(content=' do', additional_kwargs={}, response_metadata={}, id='run--653f93d8-1ec0-48bb-9218-473b9670d609')}, 'run_id': '653f93d8-1ec0-48bb-9218-473b9670d609', 'name': 'ChatGroq', 'tags': ['seq:step:1'], 'metadata': {'thread_id': '5', 'langgraph_step': 1, 'langgraph_node': 'superbot', 'langgraph_triggers': ('branch:to:superbot',), 'langgraph_path': ('__pregel_pull', 'superbot'), 'langgraph_checkpoint_ns': 'superbot:efce3668-e618-0078-9f80-fc5ef412157d', 'checkpoint_ns': 'superbot:efce3668-e618-0078-9f80-fc5ef412157d', 'ls_provider': 'groq', 'ls_model_name': 'llama-3.1-8b-instant', 'ls_model_type': 'chat', 'ls_temperature': 0.7}, 'parent_ids': ['d7aee90a-32b2-4ef4-a5c0-09d4e662faf3', 'd23ca73b-48b0-4c4e-8339-51cbda81d3fc']}\n",
      "{'event': 'on_chat_model_stream', 'data': {'chunk': AIMessageChunk(content=' you', additional_kwargs={}, response_metadata={}, id='run--653f93d8-1ec0-48bb-9218-473b9670d609')}, 'run_id': '653f93d8-1ec0-48bb-9218-473b9670d609', 'name': 'ChatGroq', 'tags': ['seq:step:1'], 'metadata': {'thread_id': '5', 'langgraph_step': 1, 'langgraph_node': 'superbot', 'langgraph_triggers': ('branch:to:superbot',), 'langgraph_path': ('__pregel_pull', 'superbot'), 'langgraph_checkpoint_ns': 'superbot:efce3668-e618-0078-9f80-fc5ef412157d', 'checkpoint_ns': 'superbot:efce3668-e618-0078-9f80-fc5ef412157d', 'ls_provider': 'groq', 'ls_model_name': 'llama-3.1-8b-instant', 'ls_model_type': 'chat', 'ls_temperature': 0.7}, 'parent_ids': ['d7aee90a-32b2-4ef4-a5c0-09d4e662faf3', 'd23ca73b-48b0-4c4e-8339-51cbda81d3fc']}\n",
      "{'event': 'on_chat_model_stream', 'data': {'chunk': AIMessageChunk(content=' like', additional_kwargs={}, response_metadata={}, id='run--653f93d8-1ec0-48bb-9218-473b9670d609')}, 'run_id': '653f93d8-1ec0-48bb-9218-473b9670d609', 'name': 'ChatGroq', 'tags': ['seq:step:1'], 'metadata': {'thread_id': '5', 'langgraph_step': 1, 'langgraph_node': 'superbot', 'langgraph_triggers': ('branch:to:superbot',), 'langgraph_path': ('__pregel_pull', 'superbot'), 'langgraph_checkpoint_ns': 'superbot:efce3668-e618-0078-9f80-fc5ef412157d', 'checkpoint_ns': 'superbot:efce3668-e618-0078-9f80-fc5ef412157d', 'ls_provider': 'groq', 'ls_model_name': 'llama-3.1-8b-instant', 'ls_model_type': 'chat', 'ls_temperature': 0.7}, 'parent_ids': ['d7aee90a-32b2-4ef4-a5c0-09d4e662faf3', 'd23ca73b-48b0-4c4e-8339-51cbda81d3fc']}\n",
      "{'event': 'on_chat_model_stream', 'data': {'chunk': AIMessageChunk(content=' to', additional_kwargs={}, response_metadata={}, id='run--653f93d8-1ec0-48bb-9218-473b9670d609')}, 'run_id': '653f93d8-1ec0-48bb-9218-473b9670d609', 'name': 'ChatGroq', 'tags': ['seq:step:1'], 'metadata': {'thread_id': '5', 'langgraph_step': 1, 'langgraph_node': 'superbot', 'langgraph_triggers': ('branch:to:superbot',), 'langgraph_path': ('__pregel_pull', 'superbot'), 'langgraph_checkpoint_ns': 'superbot:efce3668-e618-0078-9f80-fc5ef412157d', 'checkpoint_ns': 'superbot:efce3668-e618-0078-9f80-fc5ef412157d', 'ls_provider': 'groq', 'ls_model_name': 'llama-3.1-8b-instant', 'ls_model_type': 'chat', 'ls_temperature': 0.7}, 'parent_ids': ['d7aee90a-32b2-4ef4-a5c0-09d4e662faf3', 'd23ca73b-48b0-4c4e-8339-51cbda81d3fc']}\n",
      "{'event': 'on_chat_model_stream', 'data': {'chunk': AIMessageChunk(content=' read', additional_kwargs={}, response_metadata={}, id='run--653f93d8-1ec0-48bb-9218-473b9670d609')}, 'run_id': '653f93d8-1ec0-48bb-9218-473b9670d609', 'name': 'ChatGroq', 'tags': ['seq:step:1'], 'metadata': {'thread_id': '5', 'langgraph_step': 1, 'langgraph_node': 'superbot', 'langgraph_triggers': ('branch:to:superbot',), 'langgraph_path': ('__pregel_pull', 'superbot'), 'langgraph_checkpoint_ns': 'superbot:efce3668-e618-0078-9f80-fc5ef412157d', 'checkpoint_ns': 'superbot:efce3668-e618-0078-9f80-fc5ef412157d', 'ls_provider': 'groq', 'ls_model_name': 'llama-3.1-8b-instant', 'ls_model_type': 'chat', 'ls_temperature': 0.7}, 'parent_ids': ['d7aee90a-32b2-4ef4-a5c0-09d4e662faf3', 'd23ca73b-48b0-4c4e-8339-51cbda81d3fc']}\n",
      "{'event': 'on_chat_model_stream', 'data': {'chunk': AIMessageChunk(content='?', additional_kwargs={}, response_metadata={}, id='run--653f93d8-1ec0-48bb-9218-473b9670d609')}, 'run_id': '653f93d8-1ec0-48bb-9218-473b9670d609', 'name': 'ChatGroq', 'tags': ['seq:step:1'], 'metadata': {'thread_id': '5', 'langgraph_step': 1, 'langgraph_node': 'superbot', 'langgraph_triggers': ('branch:to:superbot',), 'langgraph_path': ('__pregel_pull', 'superbot'), 'langgraph_checkpoint_ns': 'superbot:efce3668-e618-0078-9f80-fc5ef412157d', 'checkpoint_ns': 'superbot:efce3668-e618-0078-9f80-fc5ef412157d', 'ls_provider': 'groq', 'ls_model_name': 'llama-3.1-8b-instant', 'ls_model_type': 'chat', 'ls_temperature': 0.7}, 'parent_ids': ['d7aee90a-32b2-4ef4-a5c0-09d4e662faf3', 'd23ca73b-48b0-4c4e-8339-51cbda81d3fc']}\n",
      "{'event': 'on_chat_model_stream', 'data': {'chunk': AIMessageChunk(content=' Are', additional_kwargs={}, response_metadata={}, id='run--653f93d8-1ec0-48bb-9218-473b9670d609')}, 'run_id': '653f93d8-1ec0-48bb-9218-473b9670d609', 'name': 'ChatGroq', 'tags': ['seq:step:1'], 'metadata': {'thread_id': '5', 'langgraph_step': 1, 'langgraph_node': 'superbot', 'langgraph_triggers': ('branch:to:superbot',), 'langgraph_path': ('__pregel_pull', 'superbot'), 'langgraph_checkpoint_ns': 'superbot:efce3668-e618-0078-9f80-fc5ef412157d', 'checkpoint_ns': 'superbot:efce3668-e618-0078-9f80-fc5ef412157d', 'ls_provider': 'groq', 'ls_model_name': 'llama-3.1-8b-instant', 'ls_model_type': 'chat', 'ls_temperature': 0.7}, 'parent_ids': ['d7aee90a-32b2-4ef4-a5c0-09d4e662faf3', 'd23ca73b-48b0-4c4e-8339-51cbda81d3fc']}\n",
      "{'event': 'on_chat_model_stream', 'data': {'chunk': AIMessageChunk(content=' you', additional_kwargs={}, response_metadata={}, id='run--653f93d8-1ec0-48bb-9218-473b9670d609')}, 'run_id': '653f93d8-1ec0-48bb-9218-473b9670d609', 'name': 'ChatGroq', 'tags': ['seq:step:1'], 'metadata': {'thread_id': '5', 'langgraph_step': 1, 'langgraph_node': 'superbot', 'langgraph_triggers': ('branch:to:superbot',), 'langgraph_path': ('__pregel_pull', 'superbot'), 'langgraph_checkpoint_ns': 'superbot:efce3668-e618-0078-9f80-fc5ef412157d', 'checkpoint_ns': 'superbot:efce3668-e618-0078-9f80-fc5ef412157d', 'ls_provider': 'groq', 'ls_model_name': 'llama-3.1-8b-instant', 'ls_model_type': 'chat', 'ls_temperature': 0.7}, 'parent_ids': ['d7aee90a-32b2-4ef4-a5c0-09d4e662faf3', 'd23ca73b-48b0-4c4e-8339-51cbda81d3fc']}\n",
      "{'event': 'on_chat_model_stream', 'data': {'chunk': AIMessageChunk(content=' into', additional_kwargs={}, response_metadata={}, id='run--653f93d8-1ec0-48bb-9218-473b9670d609')}, 'run_id': '653f93d8-1ec0-48bb-9218-473b9670d609', 'name': 'ChatGroq', 'tags': ['seq:step:1'], 'metadata': {'thread_id': '5', 'langgraph_step': 1, 'langgraph_node': 'superbot', 'langgraph_triggers': ('branch:to:superbot',), 'langgraph_path': ('__pregel_pull', 'superbot'), 'langgraph_checkpoint_ns': 'superbot:efce3668-e618-0078-9f80-fc5ef412157d', 'checkpoint_ns': 'superbot:efce3668-e618-0078-9f80-fc5ef412157d', 'ls_provider': 'groq', 'ls_model_name': 'llama-3.1-8b-instant', 'ls_model_type': 'chat', 'ls_temperature': 0.7}, 'parent_ids': ['d7aee90a-32b2-4ef4-a5c0-09d4e662faf3', 'd23ca73b-48b0-4c4e-8339-51cbda81d3fc']}\n",
      "{'event': 'on_chat_model_stream', 'data': {'chunk': AIMessageChunk(content=' fiction', additional_kwargs={}, response_metadata={}, id='run--653f93d8-1ec0-48bb-9218-473b9670d609')}, 'run_id': '653f93d8-1ec0-48bb-9218-473b9670d609', 'name': 'ChatGroq', 'tags': ['seq:step:1'], 'metadata': {'thread_id': '5', 'langgraph_step': 1, 'langgraph_node': 'superbot', 'langgraph_triggers': ('branch:to:superbot',), 'langgraph_path': ('__pregel_pull', 'superbot'), 'langgraph_checkpoint_ns': 'superbot:efce3668-e618-0078-9f80-fc5ef412157d', 'checkpoint_ns': 'superbot:efce3668-e618-0078-9f80-fc5ef412157d', 'ls_provider': 'groq', 'ls_model_name': 'llama-3.1-8b-instant', 'ls_model_type': 'chat', 'ls_temperature': 0.7}, 'parent_ids': ['d7aee90a-32b2-4ef4-a5c0-09d4e662faf3', 'd23ca73b-48b0-4c4e-8339-51cbda81d3fc']}\n",
      "{'event': 'on_chat_model_stream', 'data': {'chunk': AIMessageChunk(content=',', additional_kwargs={}, response_metadata={}, id='run--653f93d8-1ec0-48bb-9218-473b9670d609')}, 'run_id': '653f93d8-1ec0-48bb-9218-473b9670d609', 'name': 'ChatGroq', 'tags': ['seq:step:1'], 'metadata': {'thread_id': '5', 'langgraph_step': 1, 'langgraph_node': 'superbot', 'langgraph_triggers': ('branch:to:superbot',), 'langgraph_path': ('__pregel_pull', 'superbot'), 'langgraph_checkpoint_ns': 'superbot:efce3668-e618-0078-9f80-fc5ef412157d', 'checkpoint_ns': 'superbot:efce3668-e618-0078-9f80-fc5ef412157d', 'ls_provider': 'groq', 'ls_model_name': 'llama-3.1-8b-instant', 'ls_model_type': 'chat', 'ls_temperature': 0.7}, 'parent_ids': ['d7aee90a-32b2-4ef4-a5c0-09d4e662faf3', 'd23ca73b-48b0-4c4e-8339-51cbda81d3fc']}\n",
      "{'event': 'on_chat_model_stream', 'data': {'chunk': AIMessageChunk(content=' non', additional_kwargs={}, response_metadata={}, id='run--653f93d8-1ec0-48bb-9218-473b9670d609')}, 'run_id': '653f93d8-1ec0-48bb-9218-473b9670d609', 'name': 'ChatGroq', 'tags': ['seq:step:1'], 'metadata': {'thread_id': '5', 'langgraph_step': 1, 'langgraph_node': 'superbot', 'langgraph_triggers': ('branch:to:superbot',), 'langgraph_path': ('__pregel_pull', 'superbot'), 'langgraph_checkpoint_ns': 'superbot:efce3668-e618-0078-9f80-fc5ef412157d', 'checkpoint_ns': 'superbot:efce3668-e618-0078-9f80-fc5ef412157d', 'ls_provider': 'groq', 'ls_model_name': 'llama-3.1-8b-instant', 'ls_model_type': 'chat', 'ls_temperature': 0.7}, 'parent_ids': ['d7aee90a-32b2-4ef4-a5c0-09d4e662faf3', 'd23ca73b-48b0-4c4e-8339-51cbda81d3fc']}\n",
      "{'event': 'on_chat_model_stream', 'data': {'chunk': AIMessageChunk(content='-fiction', additional_kwargs={}, response_metadata={}, id='run--653f93d8-1ec0-48bb-9218-473b9670d609')}, 'run_id': '653f93d8-1ec0-48bb-9218-473b9670d609', 'name': 'ChatGroq', 'tags': ['seq:step:1'], 'metadata': {'thread_id': '5', 'langgraph_step': 1, 'langgraph_node': 'superbot', 'langgraph_triggers': ('branch:to:superbot',), 'langgraph_path': ('__pregel_pull', 'superbot'), 'langgraph_checkpoint_ns': 'superbot:efce3668-e618-0078-9f80-fc5ef412157d', 'checkpoint_ns': 'superbot:efce3668-e618-0078-9f80-fc5ef412157d', 'ls_provider': 'groq', 'ls_model_name': 'llama-3.1-8b-instant', 'ls_model_type': 'chat', 'ls_temperature': 0.7}, 'parent_ids': ['d7aee90a-32b2-4ef4-a5c0-09d4e662faf3', 'd23ca73b-48b0-4c4e-8339-51cbda81d3fc']}\n",
      "{'event': 'on_chat_model_stream', 'data': {'chunk': AIMessageChunk(content=',', additional_kwargs={}, response_metadata={}, id='run--653f93d8-1ec0-48bb-9218-473b9670d609')}, 'run_id': '653f93d8-1ec0-48bb-9218-473b9670d609', 'name': 'ChatGroq', 'tags': ['seq:step:1'], 'metadata': {'thread_id': '5', 'langgraph_step': 1, 'langgraph_node': 'superbot', 'langgraph_triggers': ('branch:to:superbot',), 'langgraph_path': ('__pregel_pull', 'superbot'), 'langgraph_checkpoint_ns': 'superbot:efce3668-e618-0078-9f80-fc5ef412157d', 'checkpoint_ns': 'superbot:efce3668-e618-0078-9f80-fc5ef412157d', 'ls_provider': 'groq', 'ls_model_name': 'llama-3.1-8b-instant', 'ls_model_type': 'chat', 'ls_temperature': 0.7}, 'parent_ids': ['d7aee90a-32b2-4ef4-a5c0-09d4e662faf3', 'd23ca73b-48b0-4c4e-8339-51cbda81d3fc']}\n",
      "{'event': 'on_chat_model_stream', 'data': {'chunk': AIMessageChunk(content=' mystery', additional_kwargs={}, response_metadata={}, id='run--653f93d8-1ec0-48bb-9218-473b9670d609')}, 'run_id': '653f93d8-1ec0-48bb-9218-473b9670d609', 'name': 'ChatGroq', 'tags': ['seq:step:1'], 'metadata': {'thread_id': '5', 'langgraph_step': 1, 'langgraph_node': 'superbot', 'langgraph_triggers': ('branch:to:superbot',), 'langgraph_path': ('__pregel_pull', 'superbot'), 'langgraph_checkpoint_ns': 'superbot:efce3668-e618-0078-9f80-fc5ef412157d', 'checkpoint_ns': 'superbot:efce3668-e618-0078-9f80-fc5ef412157d', 'ls_provider': 'groq', 'ls_model_name': 'llama-3.1-8b-instant', 'ls_model_type': 'chat', 'ls_temperature': 0.7}, 'parent_ids': ['d7aee90a-32b2-4ef4-a5c0-09d4e662faf3', 'd23ca73b-48b0-4c4e-8339-51cbda81d3fc']}\n",
      "{'event': 'on_chat_model_stream', 'data': {'chunk': AIMessageChunk(content=',', additional_kwargs={}, response_metadata={}, id='run--653f93d8-1ec0-48bb-9218-473b9670d609')}, 'run_id': '653f93d8-1ec0-48bb-9218-473b9670d609', 'name': 'ChatGroq', 'tags': ['seq:step:1'], 'metadata': {'thread_id': '5', 'langgraph_step': 1, 'langgraph_node': 'superbot', 'langgraph_triggers': ('branch:to:superbot',), 'langgraph_path': ('__pregel_pull', 'superbot'), 'langgraph_checkpoint_ns': 'superbot:efce3668-e618-0078-9f80-fc5ef412157d', 'checkpoint_ns': 'superbot:efce3668-e618-0078-9f80-fc5ef412157d', 'ls_provider': 'groq', 'ls_model_name': 'llama-3.1-8b-instant', 'ls_model_type': 'chat', 'ls_temperature': 0.7}, 'parent_ids': ['d7aee90a-32b2-4ef4-a5c0-09d4e662faf3', 'd23ca73b-48b0-4c4e-8339-51cbda81d3fc']}\n",
      "{'event': 'on_chat_model_stream', 'data': {'chunk': AIMessageChunk(content=' sci', additional_kwargs={}, response_metadata={}, id='run--653f93d8-1ec0-48bb-9218-473b9670d609')}, 'run_id': '653f93d8-1ec0-48bb-9218-473b9670d609', 'name': 'ChatGroq', 'tags': ['seq:step:1'], 'metadata': {'thread_id': '5', 'langgraph_step': 1, 'langgraph_node': 'superbot', 'langgraph_triggers': ('branch:to:superbot',), 'langgraph_path': ('__pregel_pull', 'superbot'), 'langgraph_checkpoint_ns': 'superbot:efce3668-e618-0078-9f80-fc5ef412157d', 'checkpoint_ns': 'superbot:efce3668-e618-0078-9f80-fc5ef412157d', 'ls_provider': 'groq', 'ls_model_name': 'llama-3.1-8b-instant', 'ls_model_type': 'chat', 'ls_temperature': 0.7}, 'parent_ids': ['d7aee90a-32b2-4ef4-a5c0-09d4e662faf3', 'd23ca73b-48b0-4c4e-8339-51cbda81d3fc']}\n",
      "{'event': 'on_chat_model_stream', 'data': {'chunk': AIMessageChunk(content='-fi', additional_kwargs={}, response_metadata={}, id='run--653f93d8-1ec0-48bb-9218-473b9670d609')}, 'run_id': '653f93d8-1ec0-48bb-9218-473b9670d609', 'name': 'ChatGroq', 'tags': ['seq:step:1'], 'metadata': {'thread_id': '5', 'langgraph_step': 1, 'langgraph_node': 'superbot', 'langgraph_triggers': ('branch:to:superbot',), 'langgraph_path': ('__pregel_pull', 'superbot'), 'langgraph_checkpoint_ns': 'superbot:efce3668-e618-0078-9f80-fc5ef412157d', 'checkpoint_ns': 'superbot:efce3668-e618-0078-9f80-fc5ef412157d', 'ls_provider': 'groq', 'ls_model_name': 'llama-3.1-8b-instant', 'ls_model_type': 'chat', 'ls_temperature': 0.7}, 'parent_ids': ['d7aee90a-32b2-4ef4-a5c0-09d4e662faf3', 'd23ca73b-48b0-4c4e-8339-51cbda81d3fc']}\n",
      "{'event': 'on_chat_model_stream', 'data': {'chunk': AIMessageChunk(content=',', additional_kwargs={}, response_metadata={}, id='run--653f93d8-1ec0-48bb-9218-473b9670d609')}, 'run_id': '653f93d8-1ec0-48bb-9218-473b9670d609', 'name': 'ChatGroq', 'tags': ['seq:step:1'], 'metadata': {'thread_id': '5', 'langgraph_step': 1, 'langgraph_node': 'superbot', 'langgraph_triggers': ('branch:to:superbot',), 'langgraph_path': ('__pregel_pull', 'superbot'), 'langgraph_checkpoint_ns': 'superbot:efce3668-e618-0078-9f80-fc5ef412157d', 'checkpoint_ns': 'superbot:efce3668-e618-0078-9f80-fc5ef412157d', 'ls_provider': 'groq', 'ls_model_name': 'llama-3.1-8b-instant', 'ls_model_type': 'chat', 'ls_temperature': 0.7}, 'parent_ids': ['d7aee90a-32b2-4ef4-a5c0-09d4e662faf3', 'd23ca73b-48b0-4c4e-8339-51cbda81d3fc']}\n",
      "{'event': 'on_chat_model_stream', 'data': {'chunk': AIMessageChunk(content=' fantasy', additional_kwargs={}, response_metadata={}, id='run--653f93d8-1ec0-48bb-9218-473b9670d609')}, 'run_id': '653f93d8-1ec0-48bb-9218-473b9670d609', 'name': 'ChatGroq', 'tags': ['seq:step:1'], 'metadata': {'thread_id': '5', 'langgraph_step': 1, 'langgraph_node': 'superbot', 'langgraph_triggers': ('branch:to:superbot',), 'langgraph_path': ('__pregel_pull', 'superbot'), 'langgraph_checkpoint_ns': 'superbot:efce3668-e618-0078-9f80-fc5ef412157d', 'checkpoint_ns': 'superbot:efce3668-e618-0078-9f80-fc5ef412157d', 'ls_provider': 'groq', 'ls_model_name': 'llama-3.1-8b-instant', 'ls_model_type': 'chat', 'ls_temperature': 0.7}, 'parent_ids': ['d7aee90a-32b2-4ef4-a5c0-09d4e662faf3', 'd23ca73b-48b0-4c4e-8339-51cbda81d3fc']}\n",
      "{'event': 'on_chat_model_stream', 'data': {'chunk': AIMessageChunk(content=',', additional_kwargs={}, response_metadata={}, id='run--653f93d8-1ec0-48bb-9218-473b9670d609')}, 'run_id': '653f93d8-1ec0-48bb-9218-473b9670d609', 'name': 'ChatGroq', 'tags': ['seq:step:1'], 'metadata': {'thread_id': '5', 'langgraph_step': 1, 'langgraph_node': 'superbot', 'langgraph_triggers': ('branch:to:superbot',), 'langgraph_path': ('__pregel_pull', 'superbot'), 'langgraph_checkpoint_ns': 'superbot:efce3668-e618-0078-9f80-fc5ef412157d', 'checkpoint_ns': 'superbot:efce3668-e618-0078-9f80-fc5ef412157d', 'ls_provider': 'groq', 'ls_model_name': 'llama-3.1-8b-instant', 'ls_model_type': 'chat', 'ls_temperature': 0.7}, 'parent_ids': ['d7aee90a-32b2-4ef4-a5c0-09d4e662faf3', 'd23ca73b-48b0-4c4e-8339-51cbda81d3fc']}\n",
      "{'event': 'on_chat_model_stream', 'data': {'chunk': AIMessageChunk(content=' or', additional_kwargs={}, response_metadata={}, id='run--653f93d8-1ec0-48bb-9218-473b9670d609')}, 'run_id': '653f93d8-1ec0-48bb-9218-473b9670d609', 'name': 'ChatGroq', 'tags': ['seq:step:1'], 'metadata': {'thread_id': '5', 'langgraph_step': 1, 'langgraph_node': 'superbot', 'langgraph_triggers': ('branch:to:superbot',), 'langgraph_path': ('__pregel_pull', 'superbot'), 'langgraph_checkpoint_ns': 'superbot:efce3668-e618-0078-9f80-fc5ef412157d', 'checkpoint_ns': 'superbot:efce3668-e618-0078-9f80-fc5ef412157d', 'ls_provider': 'groq', 'ls_model_name': 'llama-3.1-8b-instant', 'ls_model_type': 'chat', 'ls_temperature': 0.7}, 'parent_ids': ['d7aee90a-32b2-4ef4-a5c0-09d4e662faf3', 'd23ca73b-48b0-4c4e-8339-51cbda81d3fc']}\n",
      "{'event': 'on_chat_model_stream', 'data': {'chunk': AIMessageChunk(content=' something', additional_kwargs={}, response_metadata={}, id='run--653f93d8-1ec0-48bb-9218-473b9670d609')}, 'run_id': '653f93d8-1ec0-48bb-9218-473b9670d609', 'name': 'ChatGroq', 'tags': ['seq:step:1'], 'metadata': {'thread_id': '5', 'langgraph_step': 1, 'langgraph_node': 'superbot', 'langgraph_triggers': ('branch:to:superbot',), 'langgraph_path': ('__pregel_pull', 'superbot'), 'langgraph_checkpoint_ns': 'superbot:efce3668-e618-0078-9f80-fc5ef412157d', 'checkpoint_ns': 'superbot:efce3668-e618-0078-9f80-fc5ef412157d', 'ls_provider': 'groq', 'ls_model_name': 'llama-3.1-8b-instant', 'ls_model_type': 'chat', 'ls_temperature': 0.7}, 'parent_ids': ['d7aee90a-32b2-4ef4-a5c0-09d4e662faf3', 'd23ca73b-48b0-4c4e-8339-51cbda81d3fc']}\n",
      "{'event': 'on_chat_model_stream', 'data': {'chunk': AIMessageChunk(content=' else', additional_kwargs={}, response_metadata={}, id='run--653f93d8-1ec0-48bb-9218-473b9670d609')}, 'run_id': '653f93d8-1ec0-48bb-9218-473b9670d609', 'name': 'ChatGroq', 'tags': ['seq:step:1'], 'metadata': {'thread_id': '5', 'langgraph_step': 1, 'langgraph_node': 'superbot', 'langgraph_triggers': ('branch:to:superbot',), 'langgraph_path': ('__pregel_pull', 'superbot'), 'langgraph_checkpoint_ns': 'superbot:efce3668-e618-0078-9f80-fc5ef412157d', 'checkpoint_ns': 'superbot:efce3668-e618-0078-9f80-fc5ef412157d', 'ls_provider': 'groq', 'ls_model_name': 'llama-3.1-8b-instant', 'ls_model_type': 'chat', 'ls_temperature': 0.7}, 'parent_ids': ['d7aee90a-32b2-4ef4-a5c0-09d4e662faf3', 'd23ca73b-48b0-4c4e-8339-51cbda81d3fc']}\n",
      "{'event': 'on_chat_model_stream', 'data': {'chunk': AIMessageChunk(content='?', additional_kwargs={}, response_metadata={}, id='run--653f93d8-1ec0-48bb-9218-473b9670d609')}, 'run_id': '653f93d8-1ec0-48bb-9218-473b9670d609', 'name': 'ChatGroq', 'tags': ['seq:step:1'], 'metadata': {'thread_id': '5', 'langgraph_step': 1, 'langgraph_node': 'superbot', 'langgraph_triggers': ('branch:to:superbot',), 'langgraph_path': ('__pregel_pull', 'superbot'), 'langgraph_checkpoint_ns': 'superbot:efce3668-e618-0078-9f80-fc5ef412157d', 'checkpoint_ns': 'superbot:efce3668-e618-0078-9f80-fc5ef412157d', 'ls_provider': 'groq', 'ls_model_name': 'llama-3.1-8b-instant', 'ls_model_type': 'chat', 'ls_temperature': 0.7}, 'parent_ids': ['d7aee90a-32b2-4ef4-a5c0-09d4e662faf3', 'd23ca73b-48b0-4c4e-8339-51cbda81d3fc']}\n",
      "{'event': 'on_chat_model_stream', 'data': {'chunk': AIMessageChunk(content='', additional_kwargs={}, response_metadata={'finish_reason': 'stop', 'model_name': 'llama-3.1-8b-instant', 'system_fingerprint': 'fp_d880785178'}, id='run--653f93d8-1ec0-48bb-9218-473b9670d609', usage_metadata={'input_tokens': 45, 'output_tokens': 74, 'total_tokens': 119})}, 'run_id': '653f93d8-1ec0-48bb-9218-473b9670d609', 'name': 'ChatGroq', 'tags': ['seq:step:1'], 'metadata': {'thread_id': '5', 'langgraph_step': 1, 'langgraph_node': 'superbot', 'langgraph_triggers': ('branch:to:superbot',), 'langgraph_path': ('__pregel_pull', 'superbot'), 'langgraph_checkpoint_ns': 'superbot:efce3668-e618-0078-9f80-fc5ef412157d', 'checkpoint_ns': 'superbot:efce3668-e618-0078-9f80-fc5ef412157d', 'ls_provider': 'groq', 'ls_model_name': 'llama-3.1-8b-instant', 'ls_model_type': 'chat', 'ls_temperature': 0.7}, 'parent_ids': ['d7aee90a-32b2-4ef4-a5c0-09d4e662faf3', 'd23ca73b-48b0-4c4e-8339-51cbda81d3fc']}\n",
      "{'event': 'on_chat_model_end', 'data': {'output': AIMessage(content=\"Nice to meet you, Jiya.  It's great to hear that you enjoy reading. Reading can be such a wonderful hobby, allowing you to escape into different worlds, learn new things, and explore new ideas. What kind of books do you like to read? Are you into fiction, non-fiction, mystery, sci-fi, fantasy, or something else?\", additional_kwargs={}, response_metadata={'finish_reason': 'stop', 'model_name': 'llama-3.1-8b-instant', 'system_fingerprint': 'fp_d880785178'}, id='run--653f93d8-1ec0-48bb-9218-473b9670d609', usage_metadata={'input_tokens': 45, 'output_tokens': 74, 'total_tokens': 119}), 'input': {'messages': [[HumanMessage(content='MY NAME IS JIYA.I LIKE READING', additional_kwargs={}, response_metadata={}, id='273e1a36-42f3-4088-b3e2-f175cfaeb9a8')]]}}, 'run_id': '653f93d8-1ec0-48bb-9218-473b9670d609', 'name': 'ChatGroq', 'tags': ['seq:step:1'], 'metadata': {'thread_id': '5', 'langgraph_step': 1, 'langgraph_node': 'superbot', 'langgraph_triggers': ('branch:to:superbot',), 'langgraph_path': ('__pregel_pull', 'superbot'), 'langgraph_checkpoint_ns': 'superbot:efce3668-e618-0078-9f80-fc5ef412157d', 'checkpoint_ns': 'superbot:efce3668-e618-0078-9f80-fc5ef412157d', 'ls_provider': 'groq', 'ls_model_name': 'llama-3.1-8b-instant', 'ls_model_type': 'chat', 'ls_temperature': 0.7}, 'parent_ids': ['d7aee90a-32b2-4ef4-a5c0-09d4e662faf3', 'd23ca73b-48b0-4c4e-8339-51cbda81d3fc']}\n",
      "{'event': 'on_chain_stream', 'run_id': 'd23ca73b-48b0-4c4e-8339-51cbda81d3fc', 'name': 'superbot', 'tags': ['graph:step:1'], 'metadata': {'thread_id': '5', 'langgraph_step': 1, 'langgraph_node': 'superbot', 'langgraph_triggers': ('branch:to:superbot',), 'langgraph_path': ('__pregel_pull', 'superbot'), 'langgraph_checkpoint_ns': 'superbot:efce3668-e618-0078-9f80-fc5ef412157d'}, 'data': {'chunk': {'messages': [AIMessage(content=\"Nice to meet you, Jiya.  It's great to hear that you enjoy reading. Reading can be such a wonderful hobby, allowing you to escape into different worlds, learn new things, and explore new ideas. What kind of books do you like to read? Are you into fiction, non-fiction, mystery, sci-fi, fantasy, or something else?\", additional_kwargs={}, response_metadata={'finish_reason': 'stop', 'model_name': 'llama-3.1-8b-instant', 'system_fingerprint': 'fp_d880785178'}, id='run--653f93d8-1ec0-48bb-9218-473b9670d609', usage_metadata={'input_tokens': 45, 'output_tokens': 74, 'total_tokens': 119})]}}, 'parent_ids': ['d7aee90a-32b2-4ef4-a5c0-09d4e662faf3']}\n",
      "{'event': 'on_chain_end', 'data': {'output': {'messages': [AIMessage(content=\"Nice to meet you, Jiya.  It's great to hear that you enjoy reading. Reading can be such a wonderful hobby, allowing you to escape into different worlds, learn new things, and explore new ideas. What kind of books do you like to read? Are you into fiction, non-fiction, mystery, sci-fi, fantasy, or something else?\", additional_kwargs={}, response_metadata={'finish_reason': 'stop', 'model_name': 'llama-3.1-8b-instant', 'system_fingerprint': 'fp_d880785178'}, id='run--653f93d8-1ec0-48bb-9218-473b9670d609', usage_metadata={'input_tokens': 45, 'output_tokens': 74, 'total_tokens': 119})]}, 'input': {'messages': [HumanMessage(content='MY NAME IS JIYA.I LIKE READING', additional_kwargs={}, response_metadata={}, id='273e1a36-42f3-4088-b3e2-f175cfaeb9a8')]}}, 'run_id': 'd23ca73b-48b0-4c4e-8339-51cbda81d3fc', 'name': 'superbot', 'tags': ['graph:step:1'], 'metadata': {'thread_id': '5', 'langgraph_step': 1, 'langgraph_node': 'superbot', 'langgraph_triggers': ('branch:to:superbot',), 'langgraph_path': ('__pregel_pull', 'superbot'), 'langgraph_checkpoint_ns': 'superbot:efce3668-e618-0078-9f80-fc5ef412157d'}, 'parent_ids': ['d7aee90a-32b2-4ef4-a5c0-09d4e662faf3']}\n",
      "{'event': 'on_chain_stream', 'run_id': 'd7aee90a-32b2-4ef4-a5c0-09d4e662faf3', 'name': 'LangGraph', 'tags': [], 'metadata': {'thread_id': '5'}, 'data': {'chunk': {'superbot': {'messages': [AIMessage(content=\"Nice to meet you, Jiya.  It's great to hear that you enjoy reading. Reading can be such a wonderful hobby, allowing you to escape into different worlds, learn new things, and explore new ideas. What kind of books do you like to read? Are you into fiction, non-fiction, mystery, sci-fi, fantasy, or something else?\", additional_kwargs={}, response_metadata={'finish_reason': 'stop', 'model_name': 'llama-3.1-8b-instant', 'system_fingerprint': 'fp_d880785178'}, id='run--653f93d8-1ec0-48bb-9218-473b9670d609', usage_metadata={'input_tokens': 45, 'output_tokens': 74, 'total_tokens': 119})]}}}, 'parent_ids': []}\n",
      "{'event': 'on_chain_end', 'data': {'output': {'messages': [HumanMessage(content='MY NAME IS JIYA.I LIKE READING', additional_kwargs={}, response_metadata={}, id='273e1a36-42f3-4088-b3e2-f175cfaeb9a8'), AIMessage(content=\"Nice to meet you, Jiya.  It's great to hear that you enjoy reading. Reading can be such a wonderful hobby, allowing you to escape into different worlds, learn new things, and explore new ideas. What kind of books do you like to read? Are you into fiction, non-fiction, mystery, sci-fi, fantasy, or something else?\", additional_kwargs={}, response_metadata={'finish_reason': 'stop', 'model_name': 'llama-3.1-8b-instant', 'system_fingerprint': 'fp_d880785178'}, id='run--653f93d8-1ec0-48bb-9218-473b9670d609', usage_metadata={'input_tokens': 45, 'output_tokens': 74, 'total_tokens': 119})]}}, 'run_id': 'd7aee90a-32b2-4ef4-a5c0-09d4e662faf3', 'name': 'LangGraph', 'tags': [], 'metadata': {'thread_id': '5'}, 'parent_ids': []}\n"
     ]
    }
   ],
   "source": [
    "config={\"configurable\":{\"thread_id\":\"5\"}}\n",
    "response=runnable_graph .astream_events({\"messages\":\"MY NAME IS JIYA.I LIKE READING\"},config,version=\"v2\")\n",
    "async for m in response:\n",
    "    print(m)"
   ]
  },
  {
   "cell_type": "code",
   "execution_count": null,
   "metadata": {},
   "outputs": [],
   "source": [
    "response=runnable_graph .astream({\"messages\":\"MY NAME IS JIYA.I LIKE READING\"},config,stream_mode=\"values\")\n",
    "for m in response:\n",
    "    print(m)"
   ]
  },
  {
   "cell_type": "markdown",
   "metadata": {},
   "source": [
    "#"
   ]
  },
  {
   "cell_type": "markdown",
   "metadata": {},
   "source": [
    "# human in the loop"
   ]
  },
  {
   "cell_type": "code",
   "execution_count": 1,
   "metadata": {},
   "outputs": [
    {
     "ename": "ModuleNotFoundError",
     "evalue": "No module named 'dotenv'",
     "output_type": "error",
     "traceback": [
      "\u001b[31m---------------------------------------------------------------------------\u001b[39m",
      "\u001b[31mModuleNotFoundError\u001b[39m                       Traceback (most recent call last)",
      "\u001b[36mCell\u001b[39m\u001b[36m \u001b[39m\u001b[32mIn[1]\u001b[39m\u001b[32m, line 2\u001b[39m\n\u001b[32m      1\u001b[39m \u001b[38;5;28;01mimport\u001b[39;00m\u001b[38;5;250m \u001b[39m\u001b[34;01mos\u001b[39;00m\n\u001b[32m----> \u001b[39m\u001b[32m2\u001b[39m \u001b[38;5;28;01mfrom\u001b[39;00m\u001b[38;5;250m \u001b[39m\u001b[34;01mdotenv\u001b[39;00m\u001b[38;5;250m \u001b[39m\u001b[38;5;28;01mimport\u001b[39;00m load_dotenv\n\u001b[32m      3\u001b[39m \u001b[38;5;28;01mfrom\u001b[39;00m\u001b[38;5;250m \u001b[39m\u001b[34;01mlangchain\u001b[39;00m\u001b[34;01m.\u001b[39;00m\u001b[34;01mchat_models\u001b[39;00m\u001b[38;5;250m \u001b[39m\u001b[38;5;28;01mimport\u001b[39;00m init_chat_model\n\u001b[32m      4\u001b[39m llm=init_chat_model(\u001b[33m\"\u001b[39m\u001b[33mgroq:llama-3.1-8b-instant\u001b[39m\u001b[33m\"\u001b[39m)\n",
      "\u001b[31mModuleNotFoundError\u001b[39m: No module named 'dotenv'"
     ]
    }
   ],
   "source": [
    "import os\n",
    "from dotenv import load_dotenv\n",
    "from langchain.chat_models import init_chat_model\n",
    "llm=init_chat_model(\"groq:llama-3.1-8b-instant\")"
   ]
  }
 ],
 "metadata": {
  "kernelspec": {
   "display_name": ".venv",
   "language": "python",
   "name": "python3"
  },
  "language_info": {
   "codemirror_mode": {
    "name": "ipython",
    "version": 3
   },
   "file_extension": ".py",
   "mimetype": "text/x-python",
   "name": "python",
   "nbconvert_exporter": "python",
   "pygments_lexer": "ipython3",
   "version": "3.13.4"
  }
 },
 "nbformat": 4,
 "nbformat_minor": 2
}
